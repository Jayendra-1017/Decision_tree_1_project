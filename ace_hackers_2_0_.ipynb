{
  "cells": [
    {
      "cell_type": "markdown",
      "metadata": {
        "id": "view-in-github",
        "colab_type": "text"
      },
      "source": [
        "<a href=\"https://colab.research.google.com/github/Jayendra-sharma17/Decision_tree_1_project/blob/main/ace_hackers_2_0_.ipynb\" target=\"_parent\"><img src=\"https://colab.research.google.com/assets/colab-badge.svg\" alt=\"Open In Colab\"/></a>"
      ]
    },
    {
      "cell_type": "code",
      "execution_count": null,
      "metadata": {
        "id": "W86iUPMKhBJR"
      },
      "outputs": [],
      "source": [
        "\n",
        "\n",
        "# Importing the libraries\n",
        "import numpy as np\n",
        "import matplotlib.pyplot as plt\n",
        "import pandas as pd"
      ]
    },
    {
      "cell_type": "code",
      "execution_count": null,
      "metadata": {
        "colab": {
          "base_uri": "https://localhost:8080/"
        },
        "id": "qzzSo0LAhDAu",
        "outputId": "92d5a33a-c5c2-4315-9a23-388bc2bd93d2"
      },
      "outputs": [
        {
          "output_type": "stream",
          "name": "stdout",
          "text": [
            "Drive already mounted at /content/drive; to attempt to forcibly remount, call drive.mount(\"/content/drive\", force_remount=True).\n"
          ]
        }
      ],
      "source": [
        "# Mounting Google Drive\n",
        "from google.colab import drive\n",
        "drive.mount('/content/drive')"
      ]
    },
    {
      "cell_type": "code",
      "execution_count": null,
      "metadata": {
        "colab": {
          "base_uri": "https://localhost:8080/",
          "height": 73
        },
        "id": "IgzGOeRvhLYP",
        "outputId": "98da841f-cc7c-4fdb-a612-2e172600ad05"
      },
      "outputs": [
        {
          "output_type": "display_data",
          "data": {
            "text/plain": [
              "<IPython.core.display.HTML object>"
            ],
            "text/html": [
              "\n",
              "     <input type=\"file\" id=\"files-86b653d8-acd0-46f9-acc8-93810980b51d\" name=\"files[]\" multiple disabled\n",
              "        style=\"border:none\" />\n",
              "     <output id=\"result-86b653d8-acd0-46f9-acc8-93810980b51d\">\n",
              "      Upload widget is only available when the cell has been executed in the\n",
              "      current browser session. Please rerun this cell to enable.\n",
              "      </output>\n",
              "      <script>// Copyright 2017 Google LLC\n",
              "//\n",
              "// Licensed under the Apache License, Version 2.0 (the \"License\");\n",
              "// you may not use this file except in compliance with the License.\n",
              "// You may obtain a copy of the License at\n",
              "//\n",
              "//      http://www.apache.org/licenses/LICENSE-2.0\n",
              "//\n",
              "// Unless required by applicable law or agreed to in writing, software\n",
              "// distributed under the License is distributed on an \"AS IS\" BASIS,\n",
              "// WITHOUT WARRANTIES OR CONDITIONS OF ANY KIND, either express or implied.\n",
              "// See the License for the specific language governing permissions and\n",
              "// limitations under the License.\n",
              "\n",
              "/**\n",
              " * @fileoverview Helpers for google.colab Python module.\n",
              " */\n",
              "(function(scope) {\n",
              "function span(text, styleAttributes = {}) {\n",
              "  const element = document.createElement('span');\n",
              "  element.textContent = text;\n",
              "  for (const key of Object.keys(styleAttributes)) {\n",
              "    element.style[key] = styleAttributes[key];\n",
              "  }\n",
              "  return element;\n",
              "}\n",
              "\n",
              "// Max number of bytes which will be uploaded at a time.\n",
              "const MAX_PAYLOAD_SIZE = 100 * 1024;\n",
              "\n",
              "function _uploadFiles(inputId, outputId) {\n",
              "  const steps = uploadFilesStep(inputId, outputId);\n",
              "  const outputElement = document.getElementById(outputId);\n",
              "  // Cache steps on the outputElement to make it available for the next call\n",
              "  // to uploadFilesContinue from Python.\n",
              "  outputElement.steps = steps;\n",
              "\n",
              "  return _uploadFilesContinue(outputId);\n",
              "}\n",
              "\n",
              "// This is roughly an async generator (not supported in the browser yet),\n",
              "// where there are multiple asynchronous steps and the Python side is going\n",
              "// to poll for completion of each step.\n",
              "// This uses a Promise to block the python side on completion of each step,\n",
              "// then passes the result of the previous step as the input to the next step.\n",
              "function _uploadFilesContinue(outputId) {\n",
              "  const outputElement = document.getElementById(outputId);\n",
              "  const steps = outputElement.steps;\n",
              "\n",
              "  const next = steps.next(outputElement.lastPromiseValue);\n",
              "  return Promise.resolve(next.value.promise).then((value) => {\n",
              "    // Cache the last promise value to make it available to the next\n",
              "    // step of the generator.\n",
              "    outputElement.lastPromiseValue = value;\n",
              "    return next.value.response;\n",
              "  });\n",
              "}\n",
              "\n",
              "/**\n",
              " * Generator function which is called between each async step of the upload\n",
              " * process.\n",
              " * @param {string} inputId Element ID of the input file picker element.\n",
              " * @param {string} outputId Element ID of the output display.\n",
              " * @return {!Iterable<!Object>} Iterable of next steps.\n",
              " */\n",
              "function* uploadFilesStep(inputId, outputId) {\n",
              "  const inputElement = document.getElementById(inputId);\n",
              "  inputElement.disabled = false;\n",
              "\n",
              "  const outputElement = document.getElementById(outputId);\n",
              "  outputElement.innerHTML = '';\n",
              "\n",
              "  const pickedPromise = new Promise((resolve) => {\n",
              "    inputElement.addEventListener('change', (e) => {\n",
              "      resolve(e.target.files);\n",
              "    });\n",
              "  });\n",
              "\n",
              "  const cancel = document.createElement('button');\n",
              "  inputElement.parentElement.appendChild(cancel);\n",
              "  cancel.textContent = 'Cancel upload';\n",
              "  const cancelPromise = new Promise((resolve) => {\n",
              "    cancel.onclick = () => {\n",
              "      resolve(null);\n",
              "    };\n",
              "  });\n",
              "\n",
              "  // Wait for the user to pick the files.\n",
              "  const files = yield {\n",
              "    promise: Promise.race([pickedPromise, cancelPromise]),\n",
              "    response: {\n",
              "      action: 'starting',\n",
              "    }\n",
              "  };\n",
              "\n",
              "  cancel.remove();\n",
              "\n",
              "  // Disable the input element since further picks are not allowed.\n",
              "  inputElement.disabled = true;\n",
              "\n",
              "  if (!files) {\n",
              "    return {\n",
              "      response: {\n",
              "        action: 'complete',\n",
              "      }\n",
              "    };\n",
              "  }\n",
              "\n",
              "  for (const file of files) {\n",
              "    const li = document.createElement('li');\n",
              "    li.append(span(file.name, {fontWeight: 'bold'}));\n",
              "    li.append(span(\n",
              "        `(${file.type || 'n/a'}) - ${file.size} bytes, ` +\n",
              "        `last modified: ${\n",
              "            file.lastModifiedDate ? file.lastModifiedDate.toLocaleDateString() :\n",
              "                                    'n/a'} - `));\n",
              "    const percent = span('0% done');\n",
              "    li.appendChild(percent);\n",
              "\n",
              "    outputElement.appendChild(li);\n",
              "\n",
              "    const fileDataPromise = new Promise((resolve) => {\n",
              "      const reader = new FileReader();\n",
              "      reader.onload = (e) => {\n",
              "        resolve(e.target.result);\n",
              "      };\n",
              "      reader.readAsArrayBuffer(file);\n",
              "    });\n",
              "    // Wait for the data to be ready.\n",
              "    let fileData = yield {\n",
              "      promise: fileDataPromise,\n",
              "      response: {\n",
              "        action: 'continue',\n",
              "      }\n",
              "    };\n",
              "\n",
              "    // Use a chunked sending to avoid message size limits. See b/62115660.\n",
              "    let position = 0;\n",
              "    do {\n",
              "      const length = Math.min(fileData.byteLength - position, MAX_PAYLOAD_SIZE);\n",
              "      const chunk = new Uint8Array(fileData, position, length);\n",
              "      position += length;\n",
              "\n",
              "      const base64 = btoa(String.fromCharCode.apply(null, chunk));\n",
              "      yield {\n",
              "        response: {\n",
              "          action: 'append',\n",
              "          file: file.name,\n",
              "          data: base64,\n",
              "        },\n",
              "      };\n",
              "\n",
              "      let percentDone = fileData.byteLength === 0 ?\n",
              "          100 :\n",
              "          Math.round((position / fileData.byteLength) * 100);\n",
              "      percent.textContent = `${percentDone}% done`;\n",
              "\n",
              "    } while (position < fileData.byteLength);\n",
              "  }\n",
              "\n",
              "  // All done.\n",
              "  yield {\n",
              "    response: {\n",
              "      action: 'complete',\n",
              "    }\n",
              "  };\n",
              "}\n",
              "\n",
              "scope.google = scope.google || {};\n",
              "scope.google.colab = scope.google.colab || {};\n",
              "scope.google.colab._files = {\n",
              "  _uploadFiles,\n",
              "  _uploadFilesContinue,\n",
              "};\n",
              "})(self);\n",
              "</script> "
            ]
          },
          "metadata": {}
        },
        {
          "output_type": "stream",
          "name": "stdout",
          "text": [
            "Saving NLP dataset 1 (1) (1).csv to NLP dataset 1 (1) (1).csv\n"
          ]
        }
      ],
      "source": [
        "from google.colab import files\n",
        "uploaded = files.upload()"
      ]
    },
    {
      "cell_type": "code",
      "execution_count": null,
      "metadata": {
        "colab": {
          "base_uri": "https://localhost:8080/"
        },
        "id": "RXeZJLWbhTz8",
        "outputId": "6de982f3-8ab3-41e1-d595-833891625b34"
      },
      "outputs": [
        {
          "output_type": "stream",
          "name": "stdout",
          "text": [
            "['NLP dataset 1 (1) (1).csv']\n",
            "NLP dataset 1 (1) (1).csv\n"
          ]
        }
      ],
      "source": [
        "input=list(uploaded.keys())\n",
        "print(input)\n",
        "input=input[0]\n",
        "print(input)"
      ]
    },
    {
      "cell_type": "code",
      "execution_count": null,
      "metadata": {
        "colab": {
          "base_uri": "https://localhost:8080/"
        },
        "id": "yGFwL9JMhcV_",
        "outputId": "aad84ae2-9092-433a-ec6a-840eac4e1a3c"
      },
      "outputs": [
        {
          "output_type": "stream",
          "name": "stdout",
          "text": [
            "csv\n"
          ]
        }
      ],
      "source": [
        "extension= input.split(\".\")\n",
        "print(extension[1])"
      ]
    },
    {
      "cell_type": "code",
      "execution_count": null,
      "metadata": {
        "colab": {
          "base_uri": "https://localhost:8080/",
          "height": 206
        },
        "id": "AhzYYT1BKU5H",
        "outputId": "1488dd82-4158-4e98-dd75-0a51c261639a"
      },
      "outputs": [
        {
          "output_type": "execute_result",
          "data": {
            "text/plain": [
              "                                                text  class\n",
              "0  Now all @Apple has to do is get swype on the i...      1\n",
              "1  @Apple will be adding more carrier support to ...      1\n",
              "2  Hilarious @youtube video - guy does a duet wit...      1\n",
              "3  @RIM you made it too easy for me to switch to ...      1\n",
              "4  I just realized that the reason I got into twi...      1"
            ],
            "text/html": [
              "\n",
              "  <div id=\"df-ce7ce8a4-e866-48b1-abd5-6c0ee639ff3f\">\n",
              "    <div class=\"colab-df-container\">\n",
              "      <div>\n",
              "<style scoped>\n",
              "    .dataframe tbody tr th:only-of-type {\n",
              "        vertical-align: middle;\n",
              "    }\n",
              "\n",
              "    .dataframe tbody tr th {\n",
              "        vertical-align: top;\n",
              "    }\n",
              "\n",
              "    .dataframe thead th {\n",
              "        text-align: right;\n",
              "    }\n",
              "</style>\n",
              "<table border=\"1\" class=\"dataframe\">\n",
              "  <thead>\n",
              "    <tr style=\"text-align: right;\">\n",
              "      <th></th>\n",
              "      <th>text</th>\n",
              "      <th>class</th>\n",
              "    </tr>\n",
              "  </thead>\n",
              "  <tbody>\n",
              "    <tr>\n",
              "      <th>0</th>\n",
              "      <td>Now all @Apple has to do is get swype on the i...</td>\n",
              "      <td>1</td>\n",
              "    </tr>\n",
              "    <tr>\n",
              "      <th>1</th>\n",
              "      <td>@Apple will be adding more carrier support to ...</td>\n",
              "      <td>1</td>\n",
              "    </tr>\n",
              "    <tr>\n",
              "      <th>2</th>\n",
              "      <td>Hilarious @youtube video - guy does a duet wit...</td>\n",
              "      <td>1</td>\n",
              "    </tr>\n",
              "    <tr>\n",
              "      <th>3</th>\n",
              "      <td>@RIM you made it too easy for me to switch to ...</td>\n",
              "      <td>1</td>\n",
              "    </tr>\n",
              "    <tr>\n",
              "      <th>4</th>\n",
              "      <td>I just realized that the reason I got into twi...</td>\n",
              "      <td>1</td>\n",
              "    </tr>\n",
              "  </tbody>\n",
              "</table>\n",
              "</div>\n",
              "      <button class=\"colab-df-convert\" onclick=\"convertToInteractive('df-ce7ce8a4-e866-48b1-abd5-6c0ee639ff3f')\"\n",
              "              title=\"Convert this dataframe to an interactive table.\"\n",
              "              style=\"display:none;\">\n",
              "        \n",
              "  <svg xmlns=\"http://www.w3.org/2000/svg\" height=\"24px\"viewBox=\"0 0 24 24\"\n",
              "       width=\"24px\">\n",
              "    <path d=\"M0 0h24v24H0V0z\" fill=\"none\"/>\n",
              "    <path d=\"M18.56 5.44l.94 2.06.94-2.06 2.06-.94-2.06-.94-.94-2.06-.94 2.06-2.06.94zm-11 1L8.5 8.5l.94-2.06 2.06-.94-2.06-.94L8.5 2.5l-.94 2.06-2.06.94zm10 10l.94 2.06.94-2.06 2.06-.94-2.06-.94-.94-2.06-.94 2.06-2.06.94z\"/><path d=\"M17.41 7.96l-1.37-1.37c-.4-.4-.92-.59-1.43-.59-.52 0-1.04.2-1.43.59L10.3 9.45l-7.72 7.72c-.78.78-.78 2.05 0 2.83L4 21.41c.39.39.9.59 1.41.59.51 0 1.02-.2 1.41-.59l7.78-7.78 2.81-2.81c.8-.78.8-2.07 0-2.86zM5.41 20L4 18.59l7.72-7.72 1.47 1.35L5.41 20z\"/>\n",
              "  </svg>\n",
              "      </button>\n",
              "      \n",
              "  <style>\n",
              "    .colab-df-container {\n",
              "      display:flex;\n",
              "      flex-wrap:wrap;\n",
              "      gap: 12px;\n",
              "    }\n",
              "\n",
              "    .colab-df-convert {\n",
              "      background-color: #E8F0FE;\n",
              "      border: none;\n",
              "      border-radius: 50%;\n",
              "      cursor: pointer;\n",
              "      display: none;\n",
              "      fill: #1967D2;\n",
              "      height: 32px;\n",
              "      padding: 0 0 0 0;\n",
              "      width: 32px;\n",
              "    }\n",
              "\n",
              "    .colab-df-convert:hover {\n",
              "      background-color: #E2EBFA;\n",
              "      box-shadow: 0px 1px 2px rgba(60, 64, 67, 0.3), 0px 1px 3px 1px rgba(60, 64, 67, 0.15);\n",
              "      fill: #174EA6;\n",
              "    }\n",
              "\n",
              "    [theme=dark] .colab-df-convert {\n",
              "      background-color: #3B4455;\n",
              "      fill: #D2E3FC;\n",
              "    }\n",
              "\n",
              "    [theme=dark] .colab-df-convert:hover {\n",
              "      background-color: #434B5C;\n",
              "      box-shadow: 0px 1px 3px 1px rgba(0, 0, 0, 0.15);\n",
              "      filter: drop-shadow(0px 1px 2px rgba(0, 0, 0, 0.3));\n",
              "      fill: #FFFFFF;\n",
              "    }\n",
              "  </style>\n",
              "\n",
              "      <script>\n",
              "        const buttonEl =\n",
              "          document.querySelector('#df-ce7ce8a4-e866-48b1-abd5-6c0ee639ff3f button.colab-df-convert');\n",
              "        buttonEl.style.display =\n",
              "          google.colab.kernel.accessAllowed ? 'block' : 'none';\n",
              "\n",
              "        async function convertToInteractive(key) {\n",
              "          const element = document.querySelector('#df-ce7ce8a4-e866-48b1-abd5-6c0ee639ff3f');\n",
              "          const dataTable =\n",
              "            await google.colab.kernel.invokeFunction('convertToInteractive',\n",
              "                                                     [key], {});\n",
              "          if (!dataTable) return;\n",
              "\n",
              "          const docLinkHtml = 'Like what you see? Visit the ' +\n",
              "            '<a target=\"_blank\" href=https://colab.research.google.com/notebooks/data_table.ipynb>data table notebook</a>'\n",
              "            + ' to learn more about interactive tables.';\n",
              "          element.innerHTML = '';\n",
              "          dataTable['output_type'] = 'display_data';\n",
              "          await google.colab.output.renderOutput(dataTable, element);\n",
              "          const docLink = document.createElement('div');\n",
              "          docLink.innerHTML = docLinkHtml;\n",
              "          element.appendChild(docLink);\n",
              "        }\n",
              "      </script>\n",
              "    </div>\n",
              "  </div>\n",
              "  "
            ]
          },
          "metadata": {},
          "execution_count": 7
        }
      ],
      "source": [
        "dataset = pd.read_csv(input)\n",
        "dataset.head()"
      ]
    },
    {
      "cell_type": "code",
      "execution_count": null,
      "metadata": {
        "colab": {
          "base_uri": "https://localhost:8080/"
        },
        "id": "SnDkqOoZKWZk",
        "outputId": "458cff40-0cde-4dc8-f975-c35f4114424e"
      },
      "outputs": [
        {
          "output_type": "stream",
          "name": "stdout",
          "text": [
            "                                                  text  class\n",
            "0    Now all @Apple has to do is get swype on the i...      1\n",
            "1    @Apple will be adding more carrier support to ...      1\n",
            "2    Hilarious @youtube video - guy does a duet wit...      1\n",
            "3    @RIM you made it too easy for me to switch to ...      1\n",
            "4    I just realized that the reason I got into twi...      1\n",
            "..                                                 ...    ...\n",
            "474  Houston we have a problem!! My iPad has been r...      0\n",
            "475  #Siri went down for a little while last night....      0\n",
            "476  @ford should have teamed up with @Apple instea...      0\n",
            "477  RT @gdcurry: Really @Apple?  What have you don...      0\n",
            "478                                DAMN YOU !!! @apple      0\n",
            "\n",
            "[479 rows x 2 columns]\n"
          ]
        }
      ],
      "source": [
        "print(dataset)"
      ]
    },
    {
      "cell_type": "code",
      "execution_count": null,
      "metadata": {
        "colab": {
          "base_uri": "https://localhost:8080/"
        },
        "id": "DjlTld0BKXjR",
        "outputId": "4b4b9ea0-c6bc-41d0-f866-859a313b1250"
      },
      "outputs": [
        {
          "output_type": "execute_result",
          "data": {
            "text/plain": [
              "(479, 2)"
            ]
          },
          "metadata": {},
          "execution_count": 9
        }
      ],
      "source": [
        "dataset.shape"
      ]
    },
    {
      "cell_type": "code",
      "execution_count": null,
      "metadata": {
        "colab": {
          "base_uri": "https://localhost:8080/"
        },
        "id": "IN9-i8AKKZ2Z",
        "outputId": "f7cc19ce-65dc-4086-e648-7d7e749487cd"
      },
      "outputs": [
        {
          "output_type": "stream",
          "name": "stdout",
          "text": [
            "<class 'pandas.core.frame.DataFrame'>\n",
            "RangeIndex: 479 entries, 0 to 478\n",
            "Data columns (total 2 columns):\n",
            " #   Column  Non-Null Count  Dtype \n",
            "---  ------  --------------  ----- \n",
            " 0   text    479 non-null    object\n",
            " 1   class   479 non-null    int64 \n",
            "dtypes: int64(1), object(1)\n",
            "memory usage: 7.6+ KB\n"
          ]
        }
      ],
      "source": [
        "dataset.info()"
      ]
    },
    {
      "cell_type": "code",
      "execution_count": null,
      "metadata": {
        "colab": {
          "base_uri": "https://localhost:8080/"
        },
        "id": "2B8QZKzzKbVf",
        "outputId": "4e948975-fe14-46eb-eb18-c97963f75324"
      },
      "outputs": [
        {
          "output_type": "stream",
          "name": "stdout",
          "text": [
            "text     object\n",
            "class     int64\n",
            "dtype: object\n"
          ]
        }
      ],
      "source": [
        "#Data types of Columns\n",
        "types = dataset.dtypes\n",
        "print(types)"
      ]
    },
    {
      "cell_type": "code",
      "execution_count": null,
      "metadata": {
        "colab": {
          "base_uri": "https://localhost:8080/"
        },
        "id": "mHPF46BwKcwW",
        "outputId": "78b8f104-e44f-42bc-f9f7-18289c7d161f"
      },
      "outputs": [
        {
          "output_type": "stream",
          "name": "stdout",
          "text": [
            "class\n",
            "0    316\n",
            "1    163\n",
            "dtype: int64\n"
          ]
        }
      ],
      "source": [
        "#Count total number of classes in Data\n",
        "class_counts = dataset.groupby('class').size()\n",
        "print(class_counts)"
      ]
    },
    {
      "cell_type": "code",
      "execution_count": null,
      "metadata": {
        "colab": {
          "base_uri": "https://localhost:8080/",
          "height": 452
        },
        "id": "V8Xi32X1KeLj",
        "outputId": "461bfc61-6cfd-47a6-a69e-c4a93e003a7f"
      },
      "outputs": [
        {
          "output_type": "display_data",
          "data": {
            "text/plain": [
              "<Figure size 640x480 with 1 Axes>"
            ],
            "image/png": "[encoded data removed]"
          },
          "metadata": {}
        }
      ],
      "source": [
        "# Histogram plot\n",
        "from matplotlib import pyplot\n",
        "dataset.hist()\n",
        "pyplot.show()"
      ]
    },
    {
      "cell_type": "code",
      "execution_count": null,
      "metadata": {
        "colab": {
          "base_uri": "https://localhost:8080/",
          "height": 174
        },
        "id": "7bQUNbYYKff7",
        "outputId": "8d85f33b-3c62-48c2-fe71-7eeff8f277d8"
      },
      "outputs": [
        {
          "output_type": "display_data",
          "data": {
            "text/plain": [
              "<Figure size 640x480 with 9 Axes>"
            ],
            "image/png": "[encoded data removed]"
          },
          "metadata": {}
        }
      ],
      "source": [
        "#Density Plot\n",
        "dataset.plot(kind='density' ,subplots=True, layout=(3,3), sharex=False)\n",
        "pyplot.show()"
      ]
    },
    {
      "cell_type": "code",
      "execution_count": null,
      "metadata": {
        "colab": {
          "base_uri": "https://localhost:8080/"
        },
        "id": "09w28ALyKhDg",
        "outputId": "4a986f3a-63c7-4531-d9ec-5fa794750824"
      },
      "outputs": [
        {
          "output_type": "execute_result",
          "data": {
            "text/plain": [
              "text     0\n",
              "class    0\n",
              "dtype: int64"
            ]
          },
          "metadata": {},
          "execution_count": 15
        }
      ],
      "source": [
        "#Finding missing values\n",
        "dataset.isnull().sum()"
      ]
    },
    {
      "cell_type": "code",
      "execution_count": null,
      "metadata": {
        "id": "-4ylO0T2Kkxo"
      },
      "outputs": [],
      "source": [
        "# Removing index column\n",
        "dataset = dataset.dropna()"
      ]
    },
    {
      "cell_type": "code",
      "execution_count": null,
      "metadata": {
        "colab": {
          "base_uri": "https://localhost:8080/",
          "height": 423
        },
        "id": "vhPbeECXKmMQ",
        "outputId": "e91b00cf-fa9a-4831-f262-aa2fb422fa9a"
      },
      "outputs": [
        {
          "output_type": "execute_result",
          "data": {
            "text/plain": [
              "                                                  text  class\n",
              "0    Now all @Apple has to do is get swype on the i...      1\n",
              "1    @Apple will be adding more carrier support to ...      1\n",
              "2    Hilarious @youtube video - guy does a duet wit...      1\n",
              "3    @RIM you made it too easy for me to switch to ...      1\n",
              "4    I just realized that the reason I got into twi...      1\n",
              "..                                                 ...    ...\n",
              "474  Houston we have a problem!! My iPad has been r...      0\n",
              "475  #Siri went down for a little while last night....      0\n",
              "476  @ford should have teamed up with @Apple instea...      0\n",
              "477  RT @gdcurry: Really @Apple?  What have you don...      0\n",
              "478                                DAMN YOU !!! @apple      0\n",
              "\n",
              "[479 rows x 2 columns]"
            ],
            "text/html": [
              "\n",
              "  <div id=\"df-801c645a-8361-4e29-ac3c-f09c731de025\">\n",
              "    <div class=\"colab-df-container\">\n",
              "      <div>\n",
              "<style scoped>\n",
              "    .dataframe tbody tr th:only-of-type {\n",
              "        vertical-align: middle;\n",
              "    }\n",
              "\n",
              "    .dataframe tbody tr th {\n",
              "        vertical-align: top;\n",
              "    }\n",
              "\n",
              "    .dataframe thead th {\n",
              "        text-align: right;\n",
              "    }\n",
              "</style>\n",
              "<table border=\"1\" class=\"dataframe\">\n",
              "  <thead>\n",
              "    <tr style=\"text-align: right;\">\n",
              "      <th></th>\n",
              "      <th>text</th>\n",
              "      <th>class</th>\n",
              "    </tr>\n",
              "  </thead>\n",
              "  <tbody>\n",
              "    <tr>\n",
              "      <th>0</th>\n",
              "      <td>Now all @Apple has to do is get swype on the i...</td>\n",
              "      <td>1</td>\n",
              "    </tr>\n",
              "    <tr>\n",
              "      <th>1</th>\n",
              "      <td>@Apple will be adding more carrier support to ...</td>\n",
              "      <td>1</td>\n",
              "    </tr>\n",
              "    <tr>\n",
              "      <th>2</th>\n",
              "      <td>Hilarious @youtube video - guy does a duet wit...</td>\n",
              "      <td>1</td>\n",
              "    </tr>\n",
              "    <tr>\n",
              "      <th>3</th>\n",
              "      <td>@RIM you made it too easy for me to switch to ...</td>\n",
              "      <td>1</td>\n",
              "    </tr>\n",
              "    <tr>\n",
              "      <th>4</th>\n",
              "      <td>I just realized that the reason I got into twi...</td>\n",
              "      <td>1</td>\n",
              "    </tr>\n",
              "    <tr>\n",
              "      <th>...</th>\n",
              "      <td>...</td>\n",
              "      <td>...</td>\n",
              "    </tr>\n",
              "    <tr>\n",
              "      <th>474</th>\n",
              "      <td>Houston we have a problem!! My iPad has been r...</td>\n",
              "      <td>0</td>\n",
              "    </tr>\n",
              "    <tr>\n",
              "      <th>475</th>\n",
              "      <td>#Siri went down for a little while last night....</td>\n",
              "      <td>0</td>\n",
              "    </tr>\n",
              "    <tr>\n",
              "      <th>476</th>\n",
              "      <td>@ford should have teamed up with @Apple instea...</td>\n",
              "      <td>0</td>\n",
              "    </tr>\n",
              "    <tr>\n",
              "      <th>477</th>\n",
              "      <td>RT @gdcurry: Really @Apple?  What have you don...</td>\n",
              "      <td>0</td>\n",
              "    </tr>\n",
              "    <tr>\n",
              "      <th>478</th>\n",
              "      <td>DAMN YOU !!! @apple</td>\n",
              "      <td>0</td>\n",
              "    </tr>\n",
              "  </tbody>\n",
              "</table>\n",
              "<p>479 rows × 2 columns</p>\n",
              "</div>\n",
              "      <button class=\"colab-df-convert\" onclick=\"convertToInteractive('df-801c645a-8361-4e29-ac3c-f09c731de025')\"\n",
              "              title=\"Convert this dataframe to an interactive table.\"\n",
              "              style=\"display:none;\">\n",
              "        \n",
              "  <svg xmlns=\"http://www.w3.org/2000/svg\" height=\"24px\"viewBox=\"0 0 24 24\"\n",
              "       width=\"24px\">\n",
              "    <path d=\"M0 0h24v24H0V0z\" fill=\"none\"/>\n",
              "    <path d=\"M18.56 5.44l.94 2.06.94-2.06 2.06-.94-2.06-.94-.94-2.06-.94 2.06-2.06.94zm-11 1L8.5 8.5l.94-2.06 2.06-.94-2.06-.94L8.5 2.5l-.94 2.06-2.06.94zm10 10l.94 2.06.94-2.06 2.06-.94-2.06-.94-.94-2.06-.94 2.06-2.06.94z\"/><path d=\"M17.41 7.96l-1.37-1.37c-.4-.4-.92-.59-1.43-.59-.52 0-1.04.2-1.43.59L10.3 9.45l-7.72 7.72c-.78.78-.78 2.05 0 2.83L4 21.41c.39.39.9.59 1.41.59.51 0 1.02-.2 1.41-.59l7.78-7.78 2.81-2.81c.8-.78.8-2.07 0-2.86zM5.41 20L4 18.59l7.72-7.72 1.47 1.35L5.41 20z\"/>\n",
              "  </svg>\n",
              "      </button>\n",
              "      \n",
              "  <style>\n",
              "    .colab-df-container {\n",
              "      display:flex;\n",
              "      flex-wrap:wrap;\n",
              "      gap: 12px;\n",
              "    }\n",
              "\n",
              "    .colab-df-convert {\n",
              "      background-color: #E8F0FE;\n",
              "      border: none;\n",
              "      border-radius: 50%;\n",
              "      cursor: pointer;\n",
              "      display: none;\n",
              "      fill: #1967D2;\n",
              "      height: 32px;\n",
              "      padding: 0 0 0 0;\n",
              "      width: 32px;\n",
              "    }\n",
              "\n",
              "    .colab-df-convert:hover {\n",
              "      background-color: #E2EBFA;\n",
              "      box-shadow: 0px 1px 2px rgba(60, 64, 67, 0.3), 0px 1px 3px 1px rgba(60, 64, 67, 0.15);\n",
              "      fill: #174EA6;\n",
              "    }\n",
              "\n",
              "    [theme=dark] .colab-df-convert {\n",
              "      background-color: #3B4455;\n",
              "      fill: #D2E3FC;\n",
              "    }\n",
              "\n",
              "    [theme=dark] .colab-df-convert:hover {\n",
              "      background-color: #434B5C;\n",
              "      box-shadow: 0px 1px 3px 1px rgba(0, 0, 0, 0.15);\n",
              "      filter: drop-shadow(0px 1px 2px rgba(0, 0, 0, 0.3));\n",
              "      fill: #FFFFFF;\n",
              "    }\n",
              "  </style>\n",
              "\n",
              "      <script>\n",
              "        const buttonEl =\n",
              "          document.querySelector('#df-801c645a-8361-4e29-ac3c-f09c731de025 button.colab-df-convert');\n",
              "        buttonEl.style.display =\n",
              "          google.colab.kernel.accessAllowed ? 'block' : 'none';\n",
              "\n",
              "        async function convertToInteractive(key) {\n",
              "          const element = document.querySelector('#df-801c645a-8361-4e29-ac3c-f09c731de025');\n",
              "          const dataTable =\n",
              "            await google.colab.kernel.invokeFunction('convertToInteractive',\n",
              "                                                     [key], {});\n",
              "          if (!dataTable) return;\n",
              "\n",
              "          const docLinkHtml = 'Like what you see? Visit the ' +\n",
              "            '<a target=\"_blank\" href=https://colab.research.google.com/notebooks/data_table.ipynb>data table notebook</a>'\n",
              "            + ' to learn more about interactive tables.';\n",
              "          element.innerHTML = '';\n",
              "          dataTable['output_type'] = 'display_data';\n",
              "          await google.colab.output.renderOutput(dataTable, element);\n",
              "          const docLink = document.createElement('div');\n",
              "          docLink.innerHTML = docLinkHtml;\n",
              "          element.appendChild(docLink);\n",
              "        }\n",
              "      </script>\n",
              "    </div>\n",
              "  </div>\n",
              "  "
            ]
          },
          "metadata": {},
          "execution_count": 17
        }
      ],
      "source": [
        "dataset"
      ]
    },
    {
      "cell_type": "code",
      "execution_count": null,
      "metadata": {
        "colab": {
          "base_uri": "https://localhost:8080/"
        },
        "id": "Bui9rFTVKnPJ",
        "outputId": "0b8e9298-7f05-49ca-f520-c611729e1d68"
      },
      "outputs": [
        {
          "output_type": "stream",
          "name": "stdout",
          "text": [
            "Now all @Apple has to do is get swype on the iphone and it will be crack. Iphone that is\n"
          ]
        }
      ],
      "source": [
        "print(dataset.loc[0][0])"
      ]
    },
    {
      "cell_type": "code",
      "execution_count": null,
      "metadata": {
        "id": "5G9pWWwDKoew"
      },
      "outputs": [],
      "source": [
        "# Let us take text to understand process of data preprocessing in NLP\n",
        "line=\"Now all @Apple has to do is get swype on the iphone and it will be crack. Iphone that is\""
      ]
    },
    {
      "cell_type": "code",
      "execution_count": null,
      "metadata": {
        "colab": {
          "base_uri": "https://localhost:8080/"
        },
        "id": "KA6b5P9hKqBB",
        "outputId": "3825ee67-d805-4861-ef16-c54d0f84b26a"
      },
      "outputs": [
        {
          "output_type": "stream",
          "name": "stdout",
          "text": [
            "Now all @Apple has to do is get swype on the iphone and it will be crack. Iphone that is\n",
            "-------------------------------------------------\n",
            "Review after removing number and punctuation marks. \n",
            "Now all  Apple has to do is get swype on the iphone and it will be crack  Iphone that is\n"
          ]
        }
      ],
      "source": [
        "# First step: cleaning Text and removing number and punctuation marks.\n",
        "import re\n",
        "review = re.sub('[^a-zA-Z]', ' ', dataset['text'][0])\n",
        "print(line)\n",
        "print('-------------------------------------------------')\n",
        "print('Review after removing number and punctuation marks. ')\n",
        "print(review)"
      ]
    },
    {
      "cell_type": "code",
      "execution_count": null,
      "metadata": {
        "colab": {
          "base_uri": "https://localhost:8080/"
        },
        "id": "SoEcNz3GKrkf",
        "outputId": "ba3b25bb-b167-4e6c-a552-14a53d4e0676"
      },
      "outputs": [
        {
          "output_type": "stream",
          "name": "stdout",
          "text": [
            "Now all @Apple has to do is get swype on the iphone and it will be crack. Iphone that is\n",
            "-------------------------------------------------\n",
            "Text after convering into lower case\n",
            "now all  apple has to do is get swype on the iphone and it will be crack  iphone that is\n"
          ]
        }
      ],
      "source": [
        "# Second  step: converting text into lower case.\n",
        "review=review.lower()\n",
        "print(line)\n",
        "print('-------------------------------------------------')\n",
        "print('Text after convering into lower case')\n",
        "print(review)"
      ]
    },
    {
      "cell_type": "code",
      "execution_count": null,
      "metadata": {
        "colab": {
          "base_uri": "https://localhost:8080/"
        },
        "id": "cnYYG-BMKtVi",
        "outputId": "a53f93b7-6af3-4d8f-ab5f-71aba05e8e86"
      },
      "outputs": [
        {
          "output_type": "stream",
          "name": "stdout",
          "text": [
            "['now', 'all', 'apple', 'has', 'to', 'do', 'is', 'get', 'swype', 'on', 'the', 'iphone', 'and', 'it', 'will', 'be', 'crack', 'iphone', 'that', 'is']\n"
          ]
        },
        {
          "output_type": "stream",
          "name": "stderr",
          "text": [
            "[nltk_data] Downloading package stopwords to /root/nltk_data...\n",
            "[nltk_data]   Package stopwords is already up-to-date!\n"
          ]
        }
      ],
      "source": [
        "# Third step: Removing stop words like 'this, the'\n",
        "import nltk\n",
        "nltk.download('stopwords')\n",
        "from nltk.corpus import stopwords\n",
        "review = review.split()\n",
        "print(review)"
      ]
    },
    {
      "cell_type": "code",
      "execution_count": null,
      "metadata": {
        "colab": {
          "base_uri": "https://localhost:8080/"
        },
        "id": "LtFLXBPoKu6X",
        "outputId": "41f3b1b4-fbb6-4a76-81de-c47532445b15"
      },
      "outputs": [
        {
          "output_type": "stream",
          "name": "stdout",
          "text": [
            "Text after removing stop words\n",
            "['apple', 'get', 'swype', 'iphone', 'crack', 'iphone']\n"
          ]
        }
      ],
      "source": [
        "# Third step: Removing stop words like 'this, the'\n",
        "# set function is generally used for long article to fasten process\n",
        "review1 = [word for word in review if not word in set(stopwords.words('english'))]\n",
        "print('Text after removing stop words')\n",
        "print(review1)"
      ]
    },
    {
      "cell_type": "code",
      "execution_count": null,
      "metadata": {
        "colab": {
          "base_uri": "https://localhost:8080/"
        },
        "id": "Vk-g4zWWKwm7",
        "outputId": "4422cf7c-944f-4805-9803-dd166b2bc9fb"
      },
      "outputs": [
        {
          "output_type": "stream",
          "name": "stdout",
          "text": [
            "After converting stemmer words\n",
            "['appl', 'get', 'swype', 'iphon', 'crack', 'iphon']\n"
          ]
        }
      ],
      "source": [
        "# Fourth step: converting stemming words\n",
        "from nltk.stem.porter import PorterStemmer\n",
        "ps = PorterStemmer()\n",
        "review = [ps.stem(word) for word in review1 if not word in set(stopwords.words('english'))]\n",
        "print('After converting stemmer words')\n",
        "print(review)"
      ]
    },
    {
      "cell_type": "code",
      "execution_count": null,
      "metadata": {
        "id": "o485glN0KyCe"
      },
      "outputs": [],
      "source": [
        "# joining these words of list\n",
        "review2 = ' '.join(review)"
      ]
    },
    {
      "cell_type": "code",
      "execution_count": null,
      "metadata": {
        "id": "TmOFjPwqKzrE",
        "colab": {
          "base_uri": "https://localhost:8080/"
        },
        "outputId": "a05b2794-3607-46fe-e06d-c77ce8e751c7"
      },
      "outputs": [
        {
          "output_type": "stream",
          "name": "stdout",
          "text": [
            "appl get swype iphon crack iphon\n",
            "['appl get swype iphon crack iphon']\n",
            "[[1 1 1 2 1]]\n"
          ]
        }
      ],
      "source": [
        "# Creating the Bag of Words model\n",
        "corpus1 = []\n",
        "from sklearn.feature_extraction.text import CountVectorizer\n",
        "cv = CountVectorizer(max_features = 1500)\n",
        "print(review2)\n",
        "corpus1.append(review2)\n",
        "print(corpus1)\n",
        "X = cv.fit_transform(corpus1).toarray()\n",
        "print(X)"
      ]
    },
    {
      "cell_type": "code",
      "source": [
        "# Cleaning the texts for all review using for loop\n",
        "import re\n",
        "import nltk\n",
        "nltk.download('stopwords')\n",
        "from nltk.corpus import stopwords\n",
        "from nltk.stem.porter import PorterStemmer\n",
        "corpus = []\n",
        "for i in range(0, dataset.shape[0]):\n",
        "    review = re.sub('[^a-zA-Z]', ' ', dataset.iloc[:,0][i])\n",
        "    review = review.lower()\n",
        "    review = review.split()\n",
        "    ps = PorterStemmer()\n",
        "    review = [ps.stem(word) for word in review if not word in set(stopwords.words('english'))]\n",
        "    review = ' '.join(review)\n",
        "    print(review)\n",
        "    corpus.append(review)"
      ],
      "metadata": {
        "colab": {
          "base_uri": "https://localhost:8080/"
        },
        "id": "e_vKQ67wMpKF",
        "outputId": "0c0a7db6-48f4-4521-bea4-bad8e21055a6"
      },
      "execution_count": null,
      "outputs": [
        {
          "output_type": "stream",
          "name": "stdout",
          "text": [
            "appl get swype iphon crack iphon\n",
            "appl ad carrier support iphon announc\n",
            "hilari youtub video guy duet appl siri pretti much sum love affair http co exbnqji\n",
            "rim made easi switch appl iphon see ya\n",
            "realiz reason got twitter io thank appl\n",
            "current blackberri user littl bit disappoint move android appl iphon\n",
            "strangest thing siri said far sooo glad appl gave siri sens humor http co twaeudbp via happyplac\n",
            "great close person event appl tonight regent st store\n",
            "compani experi best custom servic asid zappo appl\n",
            "appli job appl hope call lol\n",
            "rt jamaicanidl lmao think appl onto someth magic die haha siri suggest find whore h\n",
            "lmao think appl onto someth magic die haha siri suggest find whore hide bodi lolol\n",
            "rt philliprowntre regist appl develop hope actual help greatli appreci\n",
            "wow great deal refurb ipad first gen model rt appl offer great deal refurbish st gen ipad http co ukwokbgd appl\n",
            "regist appl develop hope actual help greatli appreci\n",
            "current learn mandarin upcom trip hong kong gotta hand appl iphon uber use flashcard app\n",
            "come dark side gretcheneclark hey appl send free iphon publicli ceremoni burn blackberri\n",
            "hey appl send free iphon version publicli ceremoni burn blackberri\n",
            "thank appl find mac locat wipe stolen air smallvictori thievingbastard\n",
            "thank appl covent garden geniusbar replac macbook keyboard crack wristpad lunch break today warranti\n",
            "dailydealchat appl thank\n",
            "ipad replac bound playbook n f l team http co uxawkwf appl nytim\n",
            "appl good ipad\n",
            "appl siri eff amaz\n",
            "amaz new appl io featur http co jatfvfpm\n",
            "rt triplingo one featur educ app appl websit today sweet http co ywvbe z\n",
            "one featur educ app appl websit today sweet http co ywvbe z\n",
            "want someth done right go appl useless day yourdaysarenumb\n",
            "unexpect workshop iphon appl yesterday got awesom amount info notjustaboutthephon gamerchik\n",
            "lt io appl\n",
            "rt appl question bro rt ainteeentrippin get di iphon evo\n",
            "rt imightbewrong peopl bitch iphon think smartest phone ever happi\n",
            "peopl bitch iphon think smartest phone ever happi way go appl\n",
            "twitter ceo point appl corpor mentor io signup tripl http co gci iphn\n",
            "bu iphon thxx appl\n",
            "aze v appl umber appstor well done itun mobil devic talk desktop app\n",
            "nytim coach want see bring ipad http co j ftieng ipad appl set red red hut hut nfl wish ipad\n",
            "appl jiliv danielpink appl sell million iphon unit first weekend steve job brillianc live ever iphon rva\n",
            "bkad apolog appl\n",
            "appl download io prove popular user http co nshlfiux\n",
            "lmfao look argument siri ijustin appl http co vjl si\n",
            "incred million iphon ss day better iphon http co fmjxtmm appl iphon\n",
            "save hp unwant os help buy iphon seen light lol http co gup acz backchannel appl\n",
            "well appl fix io batteri drain problem replac iphon work like champ\n",
            "current order brand new macbook pro bahhh macbook year old miss time cc appl\n",
            "bless appl\n",
            "siri know dad mom brother girlfriend thank appl\n",
            "well least appl store amaz call wait music need\n",
            "sweet appl replac glass probono thank appl\n",
            "bad appl sell million iphon debut weekend bloomberg http co avsl ygu smartphon sm rt vinodrad\n",
            "love new technolog appl iphon mac air icloud unreal technolog\n"
          ]
        },
        {
          "output_type": "stream",
          "name": "stderr",
          "text": [
            "[nltk_data] Downloading package stopwords to /root/nltk_data...\n",
            "[nltk_data]   Package stopwords is already up-to-date!\n"
          ]
        },
        {
          "output_type": "stream",
          "name": "stdout",
          "text": [
            "love new io updat appl\n",
            "anoth mention appl store http co fiioapkt rt floridamik get great custom servic appl store\n",
            "time go get iphon look forward stick man longer pay text thank appl\n",
            "hey appl hate comput need mack wanna send free one\n",
            "thank appl new gf iphon great everyth\n",
            "icloud set flawless work like champ cloud appl\n",
            "wisconsin mommi appl total email compani alway get great servic appl store\n",
            "appl love new io upgrad iphon\n",
            "nice appl tech support guy fix itouch\n",
            "get great custom servic appl store millenia mall\n",
            "io faster ipad appl\n",
            "love appl imac even though seen hubbi day geek\n",
            "make switch android appl iphon iphon smartphon stevejob appl store http co kj pjvkh\n",
            "thank incred peopl appl go beyond offer replac water damag macbook pro wow\n",
            "play man love camera iphon well done appl fb http co tmdfqre\n",
            "yeah appl io readinglist chang life nowicanspendevenmoretimeonmyphon\n",
            "appl safari reader own worldwid web\n",
            "love appl servic case crack x go hand case walk\n",
            "twitterpeopleiwouldliketomeet coollik thegadgetshow thelittleappkid jon laker benruberi appl twitter fxhomehitfilm\n",
            "said laid next year appl job last iphon iphon iphon g magic http co dxxklubp\n",
            "kind excit way last class right go appl store buy macosc snow leopard lion\n",
            "use blackberri yr disrupt lost gig thx servic im move appl iphon\n",
            "appl sell million iphon day appl keep well http co zzc w\n",
            "yessss lovin iphon updat especi slide bar top screen good job appl\n",
            "million weekend iphon per second mad appl\n",
            "appl got invest macbook pro next year time get sell android gear\n",
            "iancollinsuk appl like\n",
            "sent grandma post card use cardsapp thank appl\n",
            "sorri blackberri move appl\n",
            "kostatsetseka appl put wash kind equival blend glad hear still aliv\n",
            "launder ari iphon finest moment dri bag organ rice day boot appl\n",
            "bravo appl http co bgotzj k\n",
            "god bless youtub appl appletv bad ass system love princessofchina gb coldplay rihanna\n",
            "twitter day smash iphon appl nice gave new one\n",
            "thank appl io email pop lock screen open unlock\n",
            "one word wow rt jldavid iphon first weekend sale top four million http co zx pw gt via appl\n",
            "good iphon well today thank god appl\n",
            "rt mn nova love io easter egg pull middl top bottom see pull awesom littl featur io appl\n",
            "love io easter egg pull middl top bottom see pull awesom littl featur io appl\n",
            "love io easter egg pull middl top bottom see pull awesom littl featur appl lovemyiphon\n",
            "updat io start use cloud servic pretti bad ass appl iphon gs still champ\n",
            "gone run beauti morn man love io appl iphon\n",
            "appl simpli best\n",
            "must admit appl made happi camper text tone lol ring tone makemeproud drake ver text tone nicki\n",
            "day thank great custom servic receiv today appl via phone cs new phone way daysofgr\n",
            "appl replac phone free\n",
            "love new ipod updat appl\n",
            "alexlindsay wife upgrad iphon think siri alon worth upgrad look forward appl continu enhanc siri\n",
            "rt tomkeen thx instagram thx appl hypo tri x http co bppjwncp\n",
            "stevejob honor tonit appl truli great loss world miss\n",
            "thx instagram thx appl hypo tri x http co eejhbt\n",
            "love new iphon thank appl io\n",
            "love much thank appl http co ui loezx\n",
            "appl iphon great geniu\n",
            "appl card app notifi card sent arriv local post offic deliv today sunday truli magic\n",
            "love new appl updat think get better somehow simplifi life right appl\n",
            "appl siri amaz\n",
            "rygurl need appl iphon siri\n",
            "meet siri new iphon butler click link amaz http co lvffdcel appl\n",
            "use work pc never ever get feel worst speaker ever appl spoil imamac\n",
            "appl http co iaa\n",
            "appl got new io upgrad imessag good luck surviv blackberri\n",
            "love io awesom appl\n",
            "rt mattyriesz kathrynye right iphon must addict welcom appl club\n",
            "thank appl innov exhibit guy play facetim instead watch game sport bar http co ou k ge\n",
            "blackberri boo hiss appl wuhu berri power technolog actual work\n",
            "appl far best ipod first time iphon ever good job guy\n",
            "thank steve appl store th av http co nsaisrip\n",
            "appl siri witchcraft next googleresearch yr lead lost\n",
            "appl io sweet notif phone search cover mail wifi sync icloud backup integr twitter well done\n",
            "rt katebett anoth great jame stewart stori today ny time import architectur appl retail success http\n",
            "anoth great jame stewart stori today ny time import architectur appl retail success http co kniz\n",
            "lt appl http co ondxwper\n",
            "welcom twitter world markstuv due io appl thank guy\n",
            "impress servic appl geniu bar metro centr power cabl replac free n book screen replac free\n",
            "rt deb lavoy nice guy appl store replac phone grati show hairlin crack screen thank appl\n",
            "nice guy appl store replac phone grati show hairlin crack screen thank appl\n",
            "iphon batteri last longer day happen sinc edg iphon nice job appl\n",
            "would taken min write blackberri thank u appl convert show grass greener\n",
            "rt herahussain rickysinghpt got new backsid eye phone v impress appl\n",
            "rickysinghpt got new backsid eye phone v impress appl\n",
            "iphon space http co jinnhvwz amaz creativ appl product inspir peopl unbeliev thing\n",
            "thank appl make ipad feel like new new io\n",
            "ibertaddigit tv ipad briliant stevejob produck http co ohfli appl present http co dbbwsdpx\n",
            "use awsom ipad love love macbook ipod amaz love appl\n",
            "appl io upgrad done much better featur featur requir\n",
            "new io updat best ilovey appl\n",
            "final got iphon thank appl stupid att learn lesson\n",
            "absolut love iphon thank steve appl\n",
            "appl invent product actual get brother call parent get go amaz siri ipod\n",
            "dammit listen siri make want upgrad well play appl\n",
            "creat new folder within photo album io final thank appl thorn side newfeatur\n",
            "video card kimari workstat die six month long hp hello appl\n",
            "blackberri facebook u r realli make throw blackberri trash get appl iphon facebook upload issu\n",
            "io updat submit appl thank support\n",
            "awesom servic appl store pc thank chri\n",
            "rt ne appl thank fix http co wtj ogdo\n",
            "crazi io photo crop best appl\n",
            "appl thank fix http co wtj ogdo\n",
            "hell ye got contact back thank appl\n",
            "rt sawyerhartman fu king love appl phone best thing ever siri best thing ever made\n",
            "appl chang life\n",
            "mad prop appl employe charg replac back plate iphon made day\n",
            "jonsibley actual appl mous pretti sweet man\n",
            "iphon amaz siri voic recognit absolut step previou attempt bravo appl\n",
            "final got appl iphon thank sprint get time\n",
            "io nice thank appl\n",
            "good support fm kevin appl bellevu store biz custom ty\n",
            "download io better expect thankyou appl\n",
            "wow love new appl updat touch cool well done\n",
            "appl siri amaz love\n",
            "love love love io appl\n",
            "rt cjwallac appar appl put mb cap sm new updat mb storag tell inbox full w\n",
            "rt jewelz mashabl appl iphon r expens went w htc galaxi custom loyalti w phone comp\n",
            "mashabl appl iphon r expens went w htc galaxi custom loyalti w phone comp\n",
            "kill appl http co jw z c rip appl\n",
            "appl tune go iphon iphon lone without silli io\n",
            "appl need hurri releas itunesmatch\n",
            "siri alway appl\n",
            "need exchang cord appl store wait geniu appl\n",
            "appl airdrop fail immedi declin request everi time\n",
            "good articl appl fuck lion futur http co zndp vr fb\n",
            "rt radlerc yellowg iphon user complain yellow tint screen http co uaqrxtnk appl iphon\n",
            "yellowg iphon user complain yellow tint screen http co uaqrxtnk appl iphon\n",
            "one iphon featur still miss sinc appl first show contact pictur contact list simpl yet major updat miss\n",
            "ask siri dream electr sleep disappoint snippi answer miss opportun appl\n",
            "paulen surpris appl throw error alert author author comput button\n",
            "lisa mari shhhh evil sith lord appl may hear ha\n",
            "fuck appl die fuck blaze inferno\n",
            "oh appl steve obvious noth iphoto perfect opposit insan great get fix pleas\n",
            "omg appl fuck delet music dick\n",
            "ryanbaldwin appl itun go store gt authoris auto authoris sign itun grrrr\n",
            "serious absolut of clue appl mean author\n",
            "boy could appl make harder put purchas music cloud new macbook pro must author comput\n",
            "shit shit shit io updat ate app data media like appl said would go take time rebuild\n",
            "appl u cannot tell least gb iphon la vega give fuck break\n",
            "love appl download hour pad wonki ripstevejob thenonsensepersist neednewipadguid fatfuckingch\n",
            "dear appl new air notbook sinc updat kill wifi bug destroy product\n",
            "done att appl profit lack custom servic fuck\n",
            "would great appl would send new phone frustrat\n",
            "appl thank ruin gs io turn phone utterli useless pile shit\n",
            "rogerweir option replac iphon sure want one duff iphon iphon appl\n",
            "appar appl put mb cap sm new updat mb storag tell inbox full\n",
            "know appl almost week sinc paid itun match would realli like use eta fix\n",
            "remov appl shit\n",
            "phoenixswing iphon give hella hard time w io updat appl\n",
            "suck hello appl rt phonedog aaron interest note droid razr batteri remov\n",
            "appl send iphon preorder hr launch can send jackass want shoot blend em\n",
            "gotta say appl itouch iphon shuffl etc sound qualiti aw pain crap downgrad soni sound qualiti wise\n",
            "bisquiat appl upgrad slow phone much stuck half time uch thank damag suck\n",
            "mayati think appl thorough job step x step upgrad move icloud cost mightili\n",
            "hey appl io iphon includ song compil album artist name whaddupwitdat\n",
            "nickthefnicon send rcve txt apt appl pm exclaim wait whole year phone lmao\n",
            "total chao appl store regent street like ethiopian feed station believ co make cool shit\n",
            "fishmama made purchas wait appl survey hate go b c bad custserv\n",
            "correct best buy kudo chri alamo ranch tx fix issu resolv day w att appl hero day\n",
            "phxguy appl bgr ppl stand line hr get newest model sucker\n",
            "would kill appl put braill type bump earbud know bud r l dark\n",
            "appl wow motorola crush dream\n",
            "rt phxguy oh fuck appl alreadi gt iphon schedul summer launch http co ofh ptag via bgr\n",
            "oh fuck appl alreadi gt iphon schedul summer launch http co ofh ptag via bgr\n",
            "appl wait thursday avail appoint geniu tell shit luck\n",
            "wtf appl new io allow get push notif newstand siri keep yap fuck\n",
            "appl ipad io messag icon includ use\n",
            "steelo yea pre order appl sorri like\n",
            "interest appl requir reserv appl iphon http co zzk ftii\n",
            "appl iphon batteri crappi fail\n",
            "appl macbook keyboard type\n",
            "appl icloud sync sticki alway around noth everi progress w appl gruber\n",
            "appl new save version function page absolut aw interrupt counter intuit piec crap world\n",
            "hate appl comput that dollar drain\n",
            "appl iphon charg slowli\n",
            "appl io gm ipad slow wash better beta solv problem give ipad\n",
            "appl wish could pick month day year set new calendar item iphon new io fix yet\n",
            "appl itun worst program ever great phone make aw softwar\n",
            "one would think voic recognit appl tech support line would work littl better\n",
            "appl repair ipad appl lost year android come\n",
            "aze v appl umber proper consolid proper sync stop lose purchas item checkbox think\n",
            "asimrang appl umber desktop app wack though\n",
            "made reserv yet still wait line humpt oh appl appl store w other http co jzmvbdnm\n",
            "frustrat bought new macbook pro appl find doesnt ship media expensivepaperweight\n",
            "dear appl turn awesom featur enabl data plan handl mb data\n",
            "dontbemadatmebecaus android far better appl\n",
            "appl problem io prevent audio app audio function oper properli keep lose sound\n",
            "appl appl one thing hater mous butteri finish fast happi macworld macworld http co uh vt\n",
            "hey appl stop send automat depreci iphon older signal iphon die rapidli processor wise\n",
            "thing bad new canon camera two compact flash card one sd sd goe appl comput damn\n",
            "wtf appl page new term condit u updat ur app itun store u realli think read em realli\n",
            "fuck u appl\n",
            "oh prolli ganna late work bc appl screw phone alarm\n",
            "fuck dose phone decid ganna freez everi time tri updat fuck sick appl\n",
            "u need text wait u wont get cuz appl fuck everi time fuckingpiss\n",
            "imessag show time messag sent annoy appl\n",
            "like appl da fuck shit http co nb dhlsg\n",
            "rt circustk wit chu shaydiddi offici boycot up call appl curs next use wast\n",
            "damn appl whatchu done phone\n",
            "samsung seek iphon ban japan australiapat war intensifi injunct sought appl http co qmwjtvnk\n",
            "appl everi time io softwar updat ipad goe dead need total restor fail\n",
            "appl io noth pain ass room music photo app undo garbag\n",
            "appl reserv system work show product avail let alon iphon site open browser pm noth\n",
            "rt reddeersteph joelplan appl hear troubl even turn bright andshuttingdownru\n",
            "joelplan appl hear troubl even turn bright andshuttingdownrunningprogram nohelp\n",
            "albertm rememb appl evil icloud enter dropbox market\n",
            "know other issu rt joelplan second full charg day piss appl\n",
            "second full charg day piss appl\n",
            "rt shaydiddi circustk up appl bs u tell go certain time muh fuh close\n",
            "wit chu shaydiddi offici boycot up call appl curs next use wast time\n",
            "ugh appl your reserv page iphon work\n",
            "itun appl worst product wors newton hockey puck mous utterli pain use\n",
            "der icloud hate u hope die worst fuck invent world fuck youuuuuuuuuuuu icloud appl stevejob\n",
            "updat io lose everyth phone wont let sign itun account thank appl\n",
            "suddenli lost address book gs iphon someon use appl id fuck\n",
            "oh iphon overcapac huh appl let great\n",
            "issu updat itun window pc realli compat sent time talk appl care use\n",
            "appl u guy gay\n",
            "restor iphon still text dear appl love restrict sm text io io atemydingo\n",
            "none app work new io appl\n",
            "seemingli endless loop call appl up verizonwireless investig miss iphon crankywithnophon\n",
            "wisconsin mommi appl terribl hope get apolog\n",
            "zombiebomb phone verizonwireless appl pretti much ever sinc realli annoy\n",
            "chascouponmom appl get busi w new phone want buy stylu made wait forev outsid never\n",
            "appl iphon pleas deliv daughter drive nut iphon\n",
            "sprint bestbuy still word iphon preorder best buy blame sprint sprint blame appl want honest answer help\n",
            "hey appl sm full messag complet shit ye annoy\n",
            "never poor custom servic appl happen appl store w other http co gklxmui\n",
            "appl servic experi realli fuck slip except cute eyelash bat girli appl store http co dohdenmg\n",
            "ipa hour jailbrok shag itun letm restor appl sym\n",
            "hailfir irvysan appl happen snatch siri could douchebag say\n",
            "appl think make siri total depend network connect siri att utter frustrat\n",
            "wow geniu bar reserv line appl ridic right amus ugh\n",
            "iphon appl\n",
            "appl batteri life suck io\n",
            "appl updat seem render work machin incap open hdv video thank appl zero use product today\n",
            "appl commit cloud storag idisk rain soon idisk plan new servic storag\n",
            "hey appl share remind list iphon also login icloud webpag modifi share phone\n",
            "appar fuzzbal crash io congratul appl anoth incompat upgrad\n",
            "could appl lion pleas integr vertic space mission control horizont busi make nauseou\n",
            "someon plz explain whhyy appl distribut phone per day sprint store realli http co uf tak f\n",
            "gah appl io open text messag pain slow top restor attempt succeed earli adopt get better\n",
            "dear appl pdf epub file disappear ibook iphon post io upgrad hurt gs needsomethingtoread\n",
            "cbm lie appl batteri new iphon definit better lt lt check set time app usag io\n",
            "huge podcast fan realli feel like appl drop ball one http co wvzprbci via carrypad\n",
            "realli like siri voic perhap appl get star war voic like garmin http co psujg pn\n",
            "carlton realli hate deal brain dead peopl appl store good product custom servic suck nz\n",
            "realli hate deal brain dead peopl appl store good product custom servic suck\n",
            "make photo album photo app io password protect um appl fix quickli\n",
            "anyon els see miss signal bar iphon gs upgrad io cc applecanada appl forstal\n",
            "rt cbm lie appl batteri new iphon definit better\n",
            "appl want know custom think dont send updat norepli return address invent anyway useless\n",
            "everi time tri voic control ipod touch send imessag start play knew pink still flawless appl\n",
            "studi work hold appl hurri fuck nopati\n",
            "ok hindi keyboard io someth cheer appl support miss indian languag fail\n",
            "rt scottduga warn iphon app spontan loos data might app fault http co sesvwwm io downgrad\n",
            "betweensunday ah yeah option hope appl figur thx\n",
            "wait item copi itun everyth copi goe come appl hell\n",
            "appl unhappi servic product qualiti buy appl\n",
            "lie appl batteri new iphon definit better\n",
            "philipgrey dear appl gotta go chang way lt input type number gt handl blue\n",
            "hold appl custom servic minut wow lt like timewarnerc\n",
            "anyon els stuck dupe calendar mail batteri suck appl hell icloud osx lion disappoint\n",
            "inventor comput mous appl never made one complet piec fuck shit\n",
            "appl kill excit io longer tragic batteri drain geniu bar want replac batteri realli\n",
            "st impress io disappoint w upgrad restor lot app folder miss appl much time went org fail\n",
            "prjusto question appl rememb dissent\n",
            "appl multipl time siri troubl connect network siri need server exercis\n",
            "imessag still work appl\n",
            "rt jimmcniel appl resolv siri network issu need renam great product sorri els havin\n",
            "dear appl gotta go chang way lt input type number gt handl blue\n",
            "ugh wtf bottleneck paypal appl\n",
            "rt doug newton appl pleas fix siri connect network\n",
            "appl pleas fix siri connect network\n",
            "appl resolv siri network issu need renam great product sorri els issu\n",
            "chanc appl releas good headphon dont blast music outsid ear iphon ipod quit obnoxi\n",
            "appl siri work due network problem serious fix iphon fail\n",
            "trisha ps icloud cloudi appl tech techi\n",
            "electricsoup connect appl process command fail right\n",
            "see appl happen releas iphon crappi design old phone\n",
            "rt bonkoif look like appl appropri project resourc need siri reliabl\n",
            "look like appl appropri project resourc need siri reliabl\n",
            "spoke appl rep phone could hear tv blare bg said actual help u direct u back web\n",
            "wrong siri today appl\n",
            "appl siri\n",
            "suspect appl time health declin iphon perfectli iphon releas batteri serious ail\n",
            "hold anoth half hour phone ring one pick appl stink\n",
            "ok appl softwar updat iphon take waaaaay long annoy\n",
            "appl would better inform custom properli migrat icloud mani complaint lead imag damag http co ql zmppo\n",
            "appl io rape batteri life use phone lot sinc get\n",
            "jane gazmaz hope small bug appl must fix right appl itjustwork\n",
            "samsung appl realis realli piss custom base well look petti\n",
            "appl app updat origin folder locat pain\n",
            "appl domain fail open hr late walk ppl store empti need skin screen repres custom servic fail\n",
            "brianmincey appl chipset tear batteri life cowork htc thunderbolt get hour life\n",
            "wish appl updat would stop tri ram itun throat piss iphon appl\n",
            "iphon run slower sinc io updat appl verizon\n",
            "search voic year old nexu one appl\n",
            "appl updat server time week forc restor w new io softwar lost stuff thank\n",
            "appleupd success stori iphon ipad phone appl min ipad wast time appl replaceit\n",
            "thank minut wait hold half hour actual talk someon appl tech decid send email fix phone\n",
            "upset inconvenienc iphon updat fail backup iphon appl\n",
            "serious appl financ damn phone greedi bastard santa get jolli ass gear get us white plz\n",
            "schedul busi spend unqual time att appl recov iphon mo mobil get mo immobil sync\n",
            "ponder io updat sound mikeferri difficulti may hold appl fix\n",
            "twalv appl know issu dst alarm p\n",
            "book appl geniu bar hour still serv disappoint appl store sydney thanksfornoth\n",
            "appar appl geniu train extend clock servic half hour late appoint let know\n",
            "screw appl io download crap tire tri get problem figur connect time\n",
            "wow icloud mail st io upgrad issu realli hope appl without steve job\n",
            "appl guy test upgrad put hr u guy wast time yesterday thank\n",
            "go appl product first ipad freez still frozen iphon turn techietroubl\n",
            "ipad perpetu restor loop tri upgrad io appl sux without steve\n",
            "nd appl geniu apptment run late nd day row nd dodgi ipod make mega hire staff\n",
            "took appl year figur properli syncron iphon wow io\n",
            "appl went th ave store told could wait hour get needless say back hotel relax\n",
            "overal fan iphon howev siri issu connect network appl\n",
            "terribl custom servic lo gato appl pay bad home button iphon\n",
            "appl thank suck much cannot believ would sell someth onlin made\n",
            "major batteri drain issu sinc updat iphon io anyon els appstor iphon appl\n",
            "dear appl pleas send mac book back sure repair done thank\n",
            "appl thank io love music break like talk mobil cell phone bring back function iosdonwgrad\n",
            "appl io iphon caus camera apperatur dilat problem freez\n",
            "appl io geoloc suburb word drop map pin state pleas fix\n",
            "sorri appl imessag never bbm disappoint\n",
            "iphon siri work shit appl\n",
            "clarenc thoma must design new osx lion toss decad workflow standard appl bring back save autosavesuck\n",
            "offici hate appl fix damn itun\n",
            "dear appl staff littl rock store answer first question know hard question\n",
            "semilshah yeah except ask receipt take minut figur print fix appl\n",
            "rt jdougyj hey appl wanna fix fuck playlist order piec shit\n",
            "bummer yahoo ipad fantasi footbal app keep crash sure app new appl io two app run\n",
            "appl suck dick gotta restor ipad annoy\n",
            "line appl stupid\n",
            "nansen man sux appl io upgrad total fail\n",
            "dear appl contact terribl clean duplic hour magic reappear fix\n",
            "much ask app incompat appl http co ykqip nk\n",
            "piss whoever design keyboard appl home end key work cli use key often\n",
            "novatyl appl mine gone recov save b upgrad iphon soooo piss\n",
            "hey appl wanna fix fuck playlist order piec shit\n",
            "siri hard time rememb sister contact card need space famili info iphon appl\n",
            "io get sloppi appl u need check qa team mani issu app data sync\n",
            "rt nansen sm full messag known appl issu new io updat tri restor els fail restor\n",
            "glad paid appl care protect plan hold minut great custom servic\n",
            "happi appl right upgrad itouch took itouch laptop help\n",
            "say appl right goodridd see cancer bad\n",
            "twitter look problem ipad open messag crash app appl mayb fault\n",
            "appl point icloud wireless updat io forc use comput charg ipod touch worstupdateev\n",
            "robert terpstra worri bud ps say lot network issu right appl mac problem\n",
            "hate appl send toledooh bestbuy iphon verizon even pre order\n",
            "pmphillip appl non appl equip broke often guess need asu geniu bar\n",
            "new appl iphon os duplic ical event everyth fix tri turn icloud\n",
            "dear appl conveni handi thought smart iphon io updat app work anymor none gr mbl\n",
            "hey appl know steve job die twitter ipad app keep crash fix pleas lol f light\n",
            "appl happi appl today suggest softwar updat noth work\n",
            "smash yet anoth iphon screen appl gonna make phone durabl tire fix\n",
            "io one problem save someon contact show nam becuz region appl appl\n",
            "sure hell better abl restor calendar event terribl bug appl appl icloud anothericloudfail\n",
            "realli hate appl let hide newsstand app move folder serv purpos\n",
            "life much easier appl blackberri fruit\n",
            "appl locat remind ipad point updat io\n",
            "compar offic live googl app appl icloud see icloud lead crowd agre\n",
            "rt mikeferri appl fix io week buy droid emptythreat\n",
            "turn comput fix meant fuck appl go back geniu bar complain annoy\n",
            "appl fix io week buy droid emptythreat\n",
            "appl pl launch siri iphon disappoint spend hour upgrad io\n",
            "appl suck fuck iphon better glad like caus servic fuck terribl\n",
            "first time unhappi appl product disappoint internet seem confus right\n",
            "week appl io consid go back jailbroken featur plu stabl though\n",
            "issu siri reach network today mani use signal appl\n",
            "new io complet fail upgrad phone stuck restor loop thank appl wast day undo\n",
            "iphon run littl warm sometim appl\n",
            "appl wtf add newsstand folder alreadi wall garden pleas remind us\n",
            "appl see none microsoft offic program work anymor lion upgrad\n",
            "dear appl want newsstand icon screen notcool\n",
            "blackberri take better qualiti photo appl iphon though give photograhersey\n",
            "ok itunesmus idk wth sync phone album art order wtf appl\n",
            "wish siri could tweet appl fix\n",
            "appl still wait deliv phone sprint\n",
            "never purchas anoth appl product rest life glad steve job fuck dead may fuck rot hell\n",
            "thank appl new imac brick cannot instal lion cannot purchas instal former owner\n",
            "ask siri babi lisa told sorri troubl connect network right appl server fail io\n",
            "thing io done delet tiger wood game made imposs retriev thank appl\n",
            "damn appl break wififofum continu work io one use app damn appl overbear polici\n",
            "yo appl updat disast\n",
            "dear applecongratul su insur compani manag make top shit list ineedthosepictur\n",
            "dear appl must let turn icloud save bandwidth delet everi document ipad bullshit\n",
            "rt joelburn dear appl thank beauti new io featur miss old one lk make call text gt\n",
            "far worst experi upgrad version io appl io\n",
            "happen rt xcuntnuggetx never purchas anoth item appl\n",
            "never purchas anoth item appl\n",
            "rt leiboaz wow worst appl custom servic experi ever arrog inept bad combo biltmor appl store\n",
            "wow worst appl custom servic experi ever arrog inept bad combo biltmor appl store\n",
            "hey guy appl wtf happen iphon io suddenli fade black begin vibrat continu reboot\n",
            "hbogo appl play nice let use hdmi ipad pretti lame\n",
            "warn iphon app spontan loos data might app fault http co sesvwwm io downgrad appl marcoar\n",
            "first imag photo roll made serious appl fuck much\n",
            "appl iphon plu io equal half batteri life\n",
            "appl itun updat wanna updat iphon io itun say need updat fail\n",
            "appl let use credit itun unless credit card told redeem card sound fair\n",
            "amandbrar appl siri work less time servic improv monday return iphon\n",
            "azrael rt davidegori mobilem issu sync access mail good premis icloud appl\n",
            "need appl help instal new io iphon stuck find iphon screen keep click next work\n",
            "bummer appl icloud sync window w outlook thunderbird ie firefox chrome sadmac\n",
            "disappoint visual merchandis appl simpl lack eleg sequenc even tell us siri http co xv q gfi\n",
            "termin hold appl support must person troubl new iphon synch\n",
            "appl thank appl io lose contact\n",
            "appl give app back\n",
            "appl io nonstop drop call mute button randomli activ person cant hear pull phone ear mobil screen\n",
            "rt tomcolontonio occur appl appl ppl share itun account amongst famili wtf\n",
            "tomcolontonio appl epicfail\n",
            "minut iphon post io upgrad lost charg appl store folk idea\n",
            "cut cord make podcast even harder manag subscript wth appl http co ld x io via carrypad\n",
            "less hour post io iphon gone batteri charg appl store folk solut\n",
            "well appl seem b screw iphon resellar still dont yet promis similar bell monopolist prctice\n",
            "also ericgreenspan forget appl stop close app store bloodi purchas\n",
            "appl cu\n",
            "sigh appl store seem stump catastroph bad batteri life upgrad io\n",
            "hmmmm lot siri featur work canada locat direct serious appl come\n",
            "appl siri connect network less use voicecontrol\n",
            "appl took siri made exclus iphon sorud\n",
            "total time phone appl hour minut let see goe\n",
            "wait line noth fuck geniu appl call app john jean stop fuck name im french boy pcam\n",
            "dear appl one day go releas version itun freez often work one day\n",
            "hr sinc report up theft iphon appl done noth return call promis noth\n",
            "bode well charg night appl iphon batteri hr charger call light use\n",
            "houston problem ipad restor hour instal appl io right\n",
            "siri went littl last night come appl get shit togeth launch\n",
            "ford team appl instead microsoft make sync system new focu car sweet sync epicfail\n",
            "rt gdcurri realli appl done itun click music movi tv show playlist get l\n",
            "damn appl\n"
          ]
        }
      ]
    },
    {
      "cell_type": "code",
      "source": [
        "print(corpus)"
      ],
      "metadata": {
        "colab": {
          "base_uri": "https://localhost:8080/"
        },
        "id": "o0vwOPyQMtPk",
        "outputId": "e059f723-9483-40f1-d1ac-e54117681eb6"
      },
      "execution_count": null,
      "outputs": [
        {
          "output_type": "stream",
          "name": "stdout",
          "text": [
            "['appl get swype iphon crack iphon', 'appl ad carrier support iphon announc', 'hilari youtub video guy duet appl siri pretti much sum love affair http co exbnqji', 'rim made easi switch appl iphon see ya', 'realiz reason got twitter io thank appl', 'current blackberri user littl bit disappoint move android appl iphon', 'strangest thing siri said far sooo glad appl gave siri sens humor http co twaeudbp via happyplac', 'great close person event appl tonight regent st store', 'compani experi best custom servic asid zappo appl', 'appli job appl hope call lol', 'rt jamaicanidl lmao think appl onto someth magic die haha siri suggest find whore h', 'lmao think appl onto someth magic die haha siri suggest find whore hide bodi lolol', 'rt philliprowntre regist appl develop hope actual help greatli appreci', 'wow great deal refurb ipad first gen model rt appl offer great deal refurbish st gen ipad http co ukwokbgd appl', 'regist appl develop hope actual help greatli appreci', 'current learn mandarin upcom trip hong kong gotta hand appl iphon uber use flashcard app', 'come dark side gretcheneclark hey appl send free iphon publicli ceremoni burn blackberri', 'hey appl send free iphon version publicli ceremoni burn blackberri', 'thank appl find mac locat wipe stolen air smallvictori thievingbastard', 'thank appl covent garden geniusbar replac macbook keyboard crack wristpad lunch break today warranti', 'dailydealchat appl thank', 'ipad replac bound playbook n f l team http co uxawkwf appl nytim', 'appl good ipad', 'appl siri eff amaz', 'amaz new appl io featur http co jatfvfpm', 'rt triplingo one featur educ app appl websit today sweet http co ywvbe z', 'one featur educ app appl websit today sweet http co ywvbe z', 'want someth done right go appl useless day yourdaysarenumb', 'unexpect workshop iphon appl yesterday got awesom amount info notjustaboutthephon gamerchik', 'lt io appl', 'rt appl question bro rt ainteeentrippin get di iphon evo', 'rt imightbewrong peopl bitch iphon think smartest phone ever happi', 'peopl bitch iphon think smartest phone ever happi way go appl', 'twitter ceo point appl corpor mentor io signup tripl http co gci iphn', 'bu iphon thxx appl', 'aze v appl umber appstor well done itun mobil devic talk desktop app', 'nytim coach want see bring ipad http co j ftieng ipad appl set red red hut hut nfl wish ipad', 'appl jiliv danielpink appl sell million iphon unit first weekend steve job brillianc live ever iphon rva', 'bkad apolog appl', 'appl download io prove popular user http co nshlfiux', 'lmfao look argument siri ijustin appl http co vjl si', 'incred million iphon ss day better iphon http co fmjxtmm appl iphon', 'save hp unwant os help buy iphon seen light lol http co gup acz backchannel appl', 'well appl fix io batteri drain problem replac iphon work like champ', 'current order brand new macbook pro bahhh macbook year old miss time cc appl', 'bless appl', 'siri know dad mom brother girlfriend thank appl', 'well least appl store amaz call wait music need', 'sweet appl replac glass probono thank appl', 'bad appl sell million iphon debut weekend bloomberg http co avsl ygu smartphon sm rt vinodrad', 'love new technolog appl iphon mac air icloud unreal technolog', 'love new io updat appl', 'anoth mention appl store http co fiioapkt rt floridamik get great custom servic appl store', 'time go get iphon look forward stick man longer pay text thank appl', 'hey appl hate comput need mack wanna send free one', 'thank appl new gf iphon great everyth', 'icloud set flawless work like champ cloud appl', 'wisconsin mommi appl total email compani alway get great servic appl store', 'appl love new io upgrad iphon', 'nice appl tech support guy fix itouch', 'get great custom servic appl store millenia mall', 'io faster ipad appl', 'love appl imac even though seen hubbi day geek', 'make switch android appl iphon iphon smartphon stevejob appl store http co kj pjvkh', 'thank incred peopl appl go beyond offer replac water damag macbook pro wow', 'play man love camera iphon well done appl fb http co tmdfqre', 'yeah appl io readinglist chang life nowicanspendevenmoretimeonmyphon', 'appl safari reader own worldwid web', 'love appl servic case crack x go hand case walk', 'twitterpeopleiwouldliketomeet coollik thegadgetshow thelittleappkid jon laker benruberi appl twitter fxhomehitfilm', 'said laid next year appl job last iphon iphon iphon g magic http co dxxklubp', 'kind excit way last class right go appl store buy macosc snow leopard lion', 'use blackberri yr disrupt lost gig thx servic im move appl iphon', 'appl sell million iphon day appl keep well http co zzc w', 'yessss lovin iphon updat especi slide bar top screen good job appl', 'million weekend iphon per second mad appl', 'appl got invest macbook pro next year time get sell android gear', 'iancollinsuk appl like', 'sent grandma post card use cardsapp thank appl', 'sorri blackberri move appl', 'kostatsetseka appl put wash kind equival blend glad hear still aliv', 'launder ari iphon finest moment dri bag organ rice day boot appl', 'bravo appl http co bgotzj k', 'god bless youtub appl appletv bad ass system love princessofchina gb coldplay rihanna', 'twitter day smash iphon appl nice gave new one', 'thank appl io email pop lock screen open unlock', 'one word wow rt jldavid iphon first weekend sale top four million http co zx pw gt via appl', 'good iphon well today thank god appl', 'rt mn nova love io easter egg pull middl top bottom see pull awesom littl featur io appl', 'love io easter egg pull middl top bottom see pull awesom littl featur io appl', 'love io easter egg pull middl top bottom see pull awesom littl featur appl lovemyiphon', 'updat io start use cloud servic pretti bad ass appl iphon gs still champ', 'gone run beauti morn man love io appl iphon', 'appl simpli best', 'must admit appl made happi camper text tone lol ring tone makemeproud drake ver text tone nicki', 'day thank great custom servic receiv today appl via phone cs new phone way daysofgr', 'appl replac phone free', 'love new ipod updat appl', 'alexlindsay wife upgrad iphon think siri alon worth upgrad look forward appl continu enhanc siri', 'rt tomkeen thx instagram thx appl hypo tri x http co bppjwncp', 'stevejob honor tonit appl truli great loss world miss', 'thx instagram thx appl hypo tri x http co eejhbt', 'love new iphon thank appl io', 'love much thank appl http co ui loezx', 'appl iphon great geniu', 'appl card app notifi card sent arriv local post offic deliv today sunday truli magic', 'love new appl updat think get better somehow simplifi life right appl', 'appl siri amaz', 'rygurl need appl iphon siri', 'meet siri new iphon butler click link amaz http co lvffdcel appl', 'use work pc never ever get feel worst speaker ever appl spoil imamac', 'appl http co iaa', 'appl got new io upgrad imessag good luck surviv blackberri', 'love io awesom appl', 'rt mattyriesz kathrynye right iphon must addict welcom appl club', 'thank appl innov exhibit guy play facetim instead watch game sport bar http co ou k ge', 'blackberri boo hiss appl wuhu berri power technolog actual work', 'appl far best ipod first time iphon ever good job guy', 'thank steve appl store th av http co nsaisrip', 'appl siri witchcraft next googleresearch yr lead lost', 'appl io sweet notif phone search cover mail wifi sync icloud backup integr twitter well done', 'rt katebett anoth great jame stewart stori today ny time import architectur appl retail success http', 'anoth great jame stewart stori today ny time import architectur appl retail success http co kniz', 'lt appl http co ondxwper', 'welcom twitter world markstuv due io appl thank guy', 'impress servic appl geniu bar metro centr power cabl replac free n book screen replac free', 'rt deb lavoy nice guy appl store replac phone grati show hairlin crack screen thank appl', 'nice guy appl store replac phone grati show hairlin crack screen thank appl', 'iphon batteri last longer day happen sinc edg iphon nice job appl', 'would taken min write blackberri thank u appl convert show grass greener', 'rt herahussain rickysinghpt got new backsid eye phone v impress appl', 'rickysinghpt got new backsid eye phone v impress appl', 'iphon space http co jinnhvwz amaz creativ appl product inspir peopl unbeliev thing', 'thank appl make ipad feel like new new io', 'ibertaddigit tv ipad briliant stevejob produck http co ohfli appl present http co dbbwsdpx', 'use awsom ipad love love macbook ipod amaz love appl', 'appl io upgrad done much better featur featur requir', 'new io updat best ilovey appl', 'final got iphon thank appl stupid att learn lesson', 'absolut love iphon thank steve appl', 'appl invent product actual get brother call parent get go amaz siri ipod', 'dammit listen siri make want upgrad well play appl', 'creat new folder within photo album io final thank appl thorn side newfeatur', 'video card kimari workstat die six month long hp hello appl', 'blackberri facebook u r realli make throw blackberri trash get appl iphon facebook upload issu', 'io updat submit appl thank support', 'awesom servic appl store pc thank chri', 'rt ne appl thank fix http co wtj ogdo', 'crazi io photo crop best appl', 'appl thank fix http co wtj ogdo', 'hell ye got contact back thank appl', 'rt sawyerhartman fu king love appl phone best thing ever siri best thing ever made', 'appl chang life', 'mad prop appl employe charg replac back plate iphon made day', 'jonsibley actual appl mous pretti sweet man', 'iphon amaz siri voic recognit absolut step previou attempt bravo appl', 'final got appl iphon thank sprint get time', 'io nice thank appl', 'good support fm kevin appl bellevu store biz custom ty', 'download io better expect thankyou appl', 'wow love new appl updat touch cool well done', 'appl siri amaz love', 'love love love io appl', 'rt cjwallac appar appl put mb cap sm new updat mb storag tell inbox full w', 'rt jewelz mashabl appl iphon r expens went w htc galaxi custom loyalti w phone comp', 'mashabl appl iphon r expens went w htc galaxi custom loyalti w phone comp', 'kill appl http co jw z c rip appl', 'appl tune go iphon iphon lone without silli io', 'appl need hurri releas itunesmatch', 'siri alway appl', 'need exchang cord appl store wait geniu appl', 'appl airdrop fail immedi declin request everi time', 'good articl appl fuck lion futur http co zndp vr fb', 'rt radlerc yellowg iphon user complain yellow tint screen http co uaqrxtnk appl iphon', 'yellowg iphon user complain yellow tint screen http co uaqrxtnk appl iphon', 'one iphon featur still miss sinc appl first show contact pictur contact list simpl yet major updat miss', 'ask siri dream electr sleep disappoint snippi answer miss opportun appl', 'paulen surpris appl throw error alert author author comput button', 'lisa mari shhhh evil sith lord appl may hear ha', 'fuck appl die fuck blaze inferno', 'oh appl steve obvious noth iphoto perfect opposit insan great get fix pleas', 'omg appl fuck delet music dick', 'ryanbaldwin appl itun go store gt authoris auto authoris sign itun grrrr', 'serious absolut of clue appl mean author', 'boy could appl make harder put purchas music cloud new macbook pro must author comput', 'shit shit shit io updat ate app data media like appl said would go take time rebuild', 'appl u cannot tell least gb iphon la vega give fuck break', 'love appl download hour pad wonki ripstevejob thenonsensepersist neednewipadguid fatfuckingch', 'dear appl new air notbook sinc updat kill wifi bug destroy product', 'done att appl profit lack custom servic fuck', 'would great appl would send new phone frustrat', 'appl thank ruin gs io turn phone utterli useless pile shit', 'rogerweir option replac iphon sure want one duff iphon iphon appl', 'appar appl put mb cap sm new updat mb storag tell inbox full', 'know appl almost week sinc paid itun match would realli like use eta fix', 'remov appl shit', 'phoenixswing iphon give hella hard time w io updat appl', 'suck hello appl rt phonedog aaron interest note droid razr batteri remov', 'appl send iphon preorder hr launch can send jackass want shoot blend em', 'gotta say appl itouch iphon shuffl etc sound qualiti aw pain crap downgrad soni sound qualiti wise', 'bisquiat appl upgrad slow phone much stuck half time uch thank damag suck', 'mayati think appl thorough job step x step upgrad move icloud cost mightili', 'hey appl io iphon includ song compil album artist name whaddupwitdat', 'nickthefnicon send rcve txt apt appl pm exclaim wait whole year phone lmao', 'total chao appl store regent street like ethiopian feed station believ co make cool shit', 'fishmama made purchas wait appl survey hate go b c bad custserv', 'correct best buy kudo chri alamo ranch tx fix issu resolv day w att appl hero day', 'phxguy appl bgr ppl stand line hr get newest model sucker', 'would kill appl put braill type bump earbud know bud r l dark', 'appl wow motorola crush dream', 'rt phxguy oh fuck appl alreadi gt iphon schedul summer launch http co ofh ptag via bgr', 'oh fuck appl alreadi gt iphon schedul summer launch http co ofh ptag via bgr', 'appl wait thursday avail appoint geniu tell shit luck', 'wtf appl new io allow get push notif newstand siri keep yap fuck', 'appl ipad io messag icon includ use', 'steelo yea pre order appl sorri like', 'interest appl requir reserv appl iphon http co zzk ftii', 'appl iphon batteri crappi fail', 'appl macbook keyboard type', 'appl icloud sync sticki alway around noth everi progress w appl gruber', 'appl new save version function page absolut aw interrupt counter intuit piec crap world', 'hate appl comput that dollar drain', 'appl iphon charg slowli', 'appl io gm ipad slow wash better beta solv problem give ipad', 'appl wish could pick month day year set new calendar item iphon new io fix yet', 'appl itun worst program ever great phone make aw softwar', 'one would think voic recognit appl tech support line would work littl better', 'appl repair ipad appl lost year android come', 'aze v appl umber proper consolid proper sync stop lose purchas item checkbox think', 'asimrang appl umber desktop app wack though', 'made reserv yet still wait line humpt oh appl appl store w other http co jzmvbdnm', 'frustrat bought new macbook pro appl find doesnt ship media expensivepaperweight', 'dear appl turn awesom featur enabl data plan handl mb data', 'dontbemadatmebecaus android far better appl', 'appl problem io prevent audio app audio function oper properli keep lose sound', 'appl appl one thing hater mous butteri finish fast happi macworld macworld http co uh vt', 'hey appl stop send automat depreci iphon older signal iphon die rapidli processor wise', 'thing bad new canon camera two compact flash card one sd sd goe appl comput damn', 'wtf appl page new term condit u updat ur app itun store u realli think read em realli', 'fuck u appl', 'oh prolli ganna late work bc appl screw phone alarm', 'fuck dose phone decid ganna freez everi time tri updat fuck sick appl', 'u need text wait u wont get cuz appl fuck everi time fuckingpiss', 'imessag show time messag sent annoy appl', 'like appl da fuck shit http co nb dhlsg', 'rt circustk wit chu shaydiddi offici boycot up call appl curs next use wast', 'damn appl whatchu done phone', 'samsung seek iphon ban japan australiapat war intensifi injunct sought appl http co qmwjtvnk', 'appl everi time io softwar updat ipad goe dead need total restor fail', 'appl io noth pain ass room music photo app undo garbag', 'appl reserv system work show product avail let alon iphon site open browser pm noth', 'rt reddeersteph joelplan appl hear troubl even turn bright andshuttingdownru', 'joelplan appl hear troubl even turn bright andshuttingdownrunningprogram nohelp', 'albertm rememb appl evil icloud enter dropbox market', 'know other issu rt joelplan second full charg day piss appl', 'second full charg day piss appl', 'rt shaydiddi circustk up appl bs u tell go certain time muh fuh close', 'wit chu shaydiddi offici boycot up call appl curs next use wast time', 'ugh appl your reserv page iphon work', 'itun appl worst product wors newton hockey puck mous utterli pain use', 'der icloud hate u hope die worst fuck invent world fuck youuuuuuuuuuuu icloud appl stevejob', 'updat io lose everyth phone wont let sign itun account thank appl', 'suddenli lost address book gs iphon someon use appl id fuck', 'oh iphon overcapac huh appl let great', 'issu updat itun window pc realli compat sent time talk appl care use', 'appl u guy gay', 'restor iphon still text dear appl love restrict sm text io io atemydingo', 'none app work new io appl', 'seemingli endless loop call appl up verizonwireless investig miss iphon crankywithnophon', 'wisconsin mommi appl terribl hope get apolog', 'zombiebomb phone verizonwireless appl pretti much ever sinc realli annoy', 'chascouponmom appl get busi w new phone want buy stylu made wait forev outsid never', 'appl iphon pleas deliv daughter drive nut iphon', 'sprint bestbuy still word iphon preorder best buy blame sprint sprint blame appl want honest answer help', 'hey appl sm full messag complet shit ye annoy', 'never poor custom servic appl happen appl store w other http co gklxmui', 'appl servic experi realli fuck slip except cute eyelash bat girli appl store http co dohdenmg', 'ipa hour jailbrok shag itun letm restor appl sym', 'hailfir irvysan appl happen snatch siri could douchebag say', 'appl think make siri total depend network connect siri att utter frustrat', 'wow geniu bar reserv line appl ridic right amus ugh', 'iphon appl', 'appl batteri life suck io', 'appl updat seem render work machin incap open hdv video thank appl zero use product today', 'appl commit cloud storag idisk rain soon idisk plan new servic storag', 'hey appl share remind list iphon also login icloud webpag modifi share phone', 'appar fuzzbal crash io congratul appl anoth incompat upgrad', 'could appl lion pleas integr vertic space mission control horizont busi make nauseou', 'someon plz explain whhyy appl distribut phone per day sprint store realli http co uf tak f', 'gah appl io open text messag pain slow top restor attempt succeed earli adopt get better', 'dear appl pdf epub file disappear ibook iphon post io upgrad hurt gs needsomethingtoread', 'cbm lie appl batteri new iphon definit better lt lt check set time app usag io', 'huge podcast fan realli feel like appl drop ball one http co wvzprbci via carrypad', 'realli like siri voic perhap appl get star war voic like garmin http co psujg pn', 'carlton realli hate deal brain dead peopl appl store good product custom servic suck nz', 'realli hate deal brain dead peopl appl store good product custom servic suck', 'make photo album photo app io password protect um appl fix quickli', 'anyon els see miss signal bar iphon gs upgrad io cc applecanada appl forstal', 'rt cbm lie appl batteri new iphon definit better', 'appl want know custom think dont send updat norepli return address invent anyway useless', 'everi time tri voic control ipod touch send imessag start play knew pink still flawless appl', 'studi work hold appl hurri fuck nopati', 'ok hindi keyboard io someth cheer appl support miss indian languag fail', 'rt scottduga warn iphon app spontan loos data might app fault http co sesvwwm io downgrad', 'betweensunday ah yeah option hope appl figur thx', 'wait item copi itun everyth copi goe come appl hell', 'appl unhappi servic product qualiti buy appl', 'lie appl batteri new iphon definit better', 'philipgrey dear appl gotta go chang way lt input type number gt handl blue', 'hold appl custom servic minut wow lt like timewarnerc', 'anyon els stuck dupe calendar mail batteri suck appl hell icloud osx lion disappoint', 'inventor comput mous appl never made one complet piec fuck shit', 'appl kill excit io longer tragic batteri drain geniu bar want replac batteri realli', 'st impress io disappoint w upgrad restor lot app folder miss appl much time went org fail', 'prjusto question appl rememb dissent', 'appl multipl time siri troubl connect network siri need server exercis', 'imessag still work appl', 'rt jimmcniel appl resolv siri network issu need renam great product sorri els havin', 'dear appl gotta go chang way lt input type number gt handl blue', 'ugh wtf bottleneck paypal appl', 'rt doug newton appl pleas fix siri connect network', 'appl pleas fix siri connect network', 'appl resolv siri network issu need renam great product sorri els issu', 'chanc appl releas good headphon dont blast music outsid ear iphon ipod quit obnoxi', 'appl siri work due network problem serious fix iphon fail', 'trisha ps icloud cloudi appl tech techi', 'electricsoup connect appl process command fail right', 'see appl happen releas iphon crappi design old phone', 'rt bonkoif look like appl appropri project resourc need siri reliabl', 'look like appl appropri project resourc need siri reliabl', 'spoke appl rep phone could hear tv blare bg said actual help u direct u back web', 'wrong siri today appl', 'appl siri', 'suspect appl time health declin iphon perfectli iphon releas batteri serious ail', 'hold anoth half hour phone ring one pick appl stink', 'ok appl softwar updat iphon take waaaaay long annoy', 'appl would better inform custom properli migrat icloud mani complaint lead imag damag http co ql zmppo', 'appl io rape batteri life use phone lot sinc get', 'jane gazmaz hope small bug appl must fix right appl itjustwork', 'samsung appl realis realli piss custom base well look petti', 'appl app updat origin folder locat pain', 'appl domain fail open hr late walk ppl store empti need skin screen repres custom servic fail', 'brianmincey appl chipset tear batteri life cowork htc thunderbolt get hour life', 'wish appl updat would stop tri ram itun throat piss iphon appl', 'iphon run slower sinc io updat appl verizon', 'search voic year old nexu one appl', 'appl updat server time week forc restor w new io softwar lost stuff thank', 'appleupd success stori iphon ipad phone appl min ipad wast time appl replaceit', 'thank minut wait hold half hour actual talk someon appl tech decid send email fix phone', 'upset inconvenienc iphon updat fail backup iphon appl', 'serious appl financ damn phone greedi bastard santa get jolli ass gear get us white plz', 'schedul busi spend unqual time att appl recov iphon mo mobil get mo immobil sync', 'ponder io updat sound mikeferri difficulti may hold appl fix', 'twalv appl know issu dst alarm p', 'book appl geniu bar hour still serv disappoint appl store sydney thanksfornoth', 'appar appl geniu train extend clock servic half hour late appoint let know', 'screw appl io download crap tire tri get problem figur connect time', 'wow icloud mail st io upgrad issu realli hope appl without steve job', 'appl guy test upgrad put hr u guy wast time yesterday thank', 'go appl product first ipad freez still frozen iphon turn techietroubl', 'ipad perpetu restor loop tri upgrad io appl sux without steve', 'nd appl geniu apptment run late nd day row nd dodgi ipod make mega hire staff', 'took appl year figur properli syncron iphon wow io', 'appl went th ave store told could wait hour get needless say back hotel relax', 'overal fan iphon howev siri issu connect network appl', 'terribl custom servic lo gato appl pay bad home button iphon', 'appl thank suck much cannot believ would sell someth onlin made', 'major batteri drain issu sinc updat iphon io anyon els appstor iphon appl', 'dear appl pleas send mac book back sure repair done thank', 'appl thank io love music break like talk mobil cell phone bring back function iosdonwgrad', 'appl io iphon caus camera apperatur dilat problem freez', 'appl io geoloc suburb word drop map pin state pleas fix', 'sorri appl imessag never bbm disappoint', 'iphon siri work shit appl', 'clarenc thoma must design new osx lion toss decad workflow standard appl bring back save autosavesuck', 'offici hate appl fix damn itun', 'dear appl staff littl rock store answer first question know hard question', 'semilshah yeah except ask receipt take minut figur print fix appl', 'rt jdougyj hey appl wanna fix fuck playlist order piec shit', 'bummer yahoo ipad fantasi footbal app keep crash sure app new appl io two app run', 'appl suck dick gotta restor ipad annoy', 'line appl stupid', 'nansen man sux appl io upgrad total fail', 'dear appl contact terribl clean duplic hour magic reappear fix', 'much ask app incompat appl http co ykqip nk', 'piss whoever design keyboard appl home end key work cli use key often', 'novatyl appl mine gone recov save b upgrad iphon soooo piss', 'hey appl wanna fix fuck playlist order piec shit', 'siri hard time rememb sister contact card need space famili info iphon appl', 'io get sloppi appl u need check qa team mani issu app data sync', 'rt nansen sm full messag known appl issu new io updat tri restor els fail restor', 'glad paid appl care protect plan hold minut great custom servic', 'happi appl right upgrad itouch took itouch laptop help', 'say appl right goodridd see cancer bad', 'twitter look problem ipad open messag crash app appl mayb fault', 'appl point icloud wireless updat io forc use comput charg ipod touch worstupdateev', 'robert terpstra worri bud ps say lot network issu right appl mac problem', 'hate appl send toledooh bestbuy iphon verizon even pre order', 'pmphillip appl non appl equip broke often guess need asu geniu bar', 'new appl iphon os duplic ical event everyth fix tri turn icloud', 'dear appl conveni handi thought smart iphon io updat app work anymor none gr mbl', 'hey appl know steve job die twitter ipad app keep crash fix pleas lol f light', 'appl happi appl today suggest softwar updat noth work', 'smash yet anoth iphon screen appl gonna make phone durabl tire fix', 'io one problem save someon contact show nam becuz region appl appl', 'sure hell better abl restor calendar event terribl bug appl appl icloud anothericloudfail', 'realli hate appl let hide newsstand app move folder serv purpos', 'life much easier appl blackberri fruit', 'appl locat remind ipad point updat io', 'compar offic live googl app appl icloud see icloud lead crowd agre', 'rt mikeferri appl fix io week buy droid emptythreat', 'turn comput fix meant fuck appl go back geniu bar complain annoy', 'appl fix io week buy droid emptythreat', 'appl pl launch siri iphon disappoint spend hour upgrad io', 'appl suck fuck iphon better glad like caus servic fuck terribl', 'first time unhappi appl product disappoint internet seem confus right', 'week appl io consid go back jailbroken featur plu stabl though', 'issu siri reach network today mani use signal appl', 'new io complet fail upgrad phone stuck restor loop thank appl wast day undo', 'iphon run littl warm sometim appl', 'appl wtf add newsstand folder alreadi wall garden pleas remind us', 'appl see none microsoft offic program work anymor lion upgrad', 'dear appl want newsstand icon screen notcool', 'blackberri take better qualiti photo appl iphon though give photograhersey', 'ok itunesmus idk wth sync phone album art order wtf appl', 'wish siri could tweet appl fix', 'appl still wait deliv phone sprint', 'never purchas anoth appl product rest life glad steve job fuck dead may fuck rot hell', 'thank appl new imac brick cannot instal lion cannot purchas instal former owner', 'ask siri babi lisa told sorri troubl connect network right appl server fail io', 'thing io done delet tiger wood game made imposs retriev thank appl', 'damn appl break wififofum continu work io one use app damn appl overbear polici', 'yo appl updat disast', 'dear applecongratul su insur compani manag make top shit list ineedthosepictur', 'dear appl must let turn icloud save bandwidth delet everi document ipad bullshit', 'rt joelburn dear appl thank beauti new io featur miss old one lk make call text gt', 'far worst experi upgrad version io appl io', 'happen rt xcuntnuggetx never purchas anoth item appl', 'never purchas anoth item appl', 'rt leiboaz wow worst appl custom servic experi ever arrog inept bad combo biltmor appl store', 'wow worst appl custom servic experi ever arrog inept bad combo biltmor appl store', 'hey guy appl wtf happen iphon io suddenli fade black begin vibrat continu reboot', 'hbogo appl play nice let use hdmi ipad pretti lame', 'warn iphon app spontan loos data might app fault http co sesvwwm io downgrad appl marcoar', 'first imag photo roll made serious appl fuck much', 'appl iphon plu io equal half batteri life', 'appl itun updat wanna updat iphon io itun say need updat fail', 'appl let use credit itun unless credit card told redeem card sound fair', 'amandbrar appl siri work less time servic improv monday return iphon', 'azrael rt davidegori mobilem issu sync access mail good premis icloud appl', 'need appl help instal new io iphon stuck find iphon screen keep click next work', 'bummer appl icloud sync window w outlook thunderbird ie firefox chrome sadmac', 'disappoint visual merchandis appl simpl lack eleg sequenc even tell us siri http co xv q gfi', 'termin hold appl support must person troubl new iphon synch', 'appl thank appl io lose contact', 'appl give app back', 'appl io nonstop drop call mute button randomli activ person cant hear pull phone ear mobil screen', 'rt tomcolontonio occur appl appl ppl share itun account amongst famili wtf', 'tomcolontonio appl epicfail', 'minut iphon post io upgrad lost charg appl store folk idea', 'cut cord make podcast even harder manag subscript wth appl http co ld x io via carrypad', 'less hour post io iphon gone batteri charg appl store folk solut', 'well appl seem b screw iphon resellar still dont yet promis similar bell monopolist prctice', 'also ericgreenspan forget appl stop close app store bloodi purchas', 'appl cu', 'sigh appl store seem stump catastroph bad batteri life upgrad io', 'hmmmm lot siri featur work canada locat direct serious appl come', 'appl siri connect network less use voicecontrol', 'appl took siri made exclus iphon sorud', 'total time phone appl hour minut let see goe', 'wait line noth fuck geniu appl call app john jean stop fuck name im french boy pcam', 'dear appl one day go releas version itun freez often work one day', 'hr sinc report up theft iphon appl done noth return call promis noth', 'bode well charg night appl iphon batteri hr charger call light use', 'houston problem ipad restor hour instal appl io right', 'siri went littl last night come appl get shit togeth launch', 'ford team appl instead microsoft make sync system new focu car sweet sync epicfail', 'rt gdcurri realli appl done itun click music movi tv show playlist get l', 'damn appl']\n"
          ]
        }
      ]
    },
    {
      "cell_type": "code",
      "source": [
        "#    Adding corpus to csv \n",
        "corpus_dataset = pd.DataFrame(corpus)\n",
        "corpus_dataset['corpus'] = corpus_dataset\n",
        "corpus_dataset = corpus_dataset.drop([0], axis = 1) \n",
        "corpus_dataset.to_csv('/content/drive/My Drive/corpus_2.csv')"
      ],
      "metadata": {
        "id": "erKXQGAdMxtu"
      },
      "execution_count": null,
      "outputs": []
    },
    {
      "cell_type": "code",
      "source": [
        "# Creating the Bag of Words model\n",
        "from sklearn.feature_extraction.text import CountVectorizer\n",
        "cv = CountVectorizer(max_features = 1500)\n",
        "print(cv)\n",
        "X = cv.fit_transform(corpus).toarray()\n",
        "y = dataset.iloc[:, 1].values"
      ],
      "metadata": {
        "colab": {
          "base_uri": "https://localhost:8080/"
        },
        "id": "VadKTzpyMzRv",
        "outputId": "2859006c-29ab-413a-f965-b38511d9a20d"
      },
      "execution_count": null,
      "outputs": [
        {
          "output_type": "stream",
          "name": "stdout",
          "text": [
            "CountVectorizer(max_features=1500)\n"
          ]
        }
      ]
    },
    {
      "cell_type": "code",
      "source": [
        "print(X)"
      ],
      "metadata": {
        "colab": {
          "base_uri": "https://localhost:8080/"
        },
        "id": "0xSKK2eyM1B1",
        "outputId": "db26f8ac-e33c-4192-bcee-91c580ba6e41"
      },
      "execution_count": null,
      "outputs": [
        {
          "output_type": "stream",
          "name": "stdout",
          "text": [
            "[[0 0 0 ... 0 0 0]\n",
            " [0 0 0 ... 0 0 0]\n",
            " [0 0 0 ... 0 0 0]\n",
            " ...\n",
            " [0 0 0 ... 0 0 0]\n",
            " [0 0 0 ... 0 0 0]\n",
            " [0 0 0 ... 0 0 0]]\n"
          ]
        }
      ]
    },
    {
      "cell_type": "code",
      "source": [
        "X.shape\n"
      ],
      "metadata": {
        "colab": {
          "base_uri": "https://localhost:8080/"
        },
        "id": "jl5EKuR0M2Y0",
        "outputId": "35b38315-9f0b-4887-baff-19717d17ac97"
      },
      "execution_count": null,
      "outputs": [
        {
          "output_type": "execute_result",
          "data": {
            "text/plain": [
              "(479, 1500)"
            ]
          },
          "metadata": {},
          "execution_count": 32
        }
      ]
    },
    {
      "cell_type": "code",
      "source": [
        "print(y)\n",
        "y.shape"
      ],
      "metadata": {
        "colab": {
          "base_uri": "https://localhost:8080/"
        },
        "id": "JX5Fs7OTM4CO",
        "outputId": "49c4800e-3912-4089-931a-129f8a404b2d"
      },
      "execution_count": null,
      "outputs": [
        {
          "output_type": "stream",
          "name": "stdout",
          "text": [
            "[1 1 1 1 1 1 1 1 1 1 1 1 1 1 1 1 1 1 1 1 1 1 1 1 1 1 1 1 1 1 1 1 1 1 1 1 1\n",
            " 1 1 1 1 1 1 1 1 1 1 1 1 1 1 1 1 1 1 1 1 1 1 1 1 1 1 1 1 1 1 1 1 1 1 1 1 1\n",
            " 1 1 1 1 1 1 1 1 1 1 1 1 1 1 1 1 1 1 1 1 1 1 1 1 1 1 1 1 1 1 1 1 1 1 1 1 1\n",
            " 1 1 1 1 1 1 1 1 1 1 1 1 1 1 1 1 1 1 1 1 1 1 1 1 1 1 1 1 1 1 1 1 1 1 1 1 1\n",
            " 1 1 1 1 1 1 1 1 1 1 1 1 1 1 1 0 0 0 0 0 0 0 0 0 0 0 0 0 0 0 0 0 0 0 0 0 0\n",
            " 0 0 0 0 0 0 0 0 0 0 0 0 0 0 0 0 0 0 0 0 0 0 0 0 0 0 0 0 0 0 0 0 0 0 0 0 0\n",
            " 0 0 0 0 0 0 0 0 0 0 0 0 0 0 0 0 0 0 0 0 0 0 0 0 0 0 0 0 0 0 0 0 0 0 0 0 0\n",
            " 0 0 0 0 0 0 0 0 0 0 0 0 0 0 0 0 0 0 0 0 0 0 0 0 0 0 0 0 0 0 0 0 0 0 0 0 0\n",
            " 0 0 0 0 0 0 0 0 0 0 0 0 0 0 0 0 0 0 0 0 0 0 0 0 0 0 0 0 0 0 0 0 0 0 0 0 0\n",
            " 0 0 0 0 0 0 0 0 0 0 0 0 0 0 0 0 0 0 0 0 0 0 0 0 0 0 0 0 0 0 0 0 0 0 0 0 0\n",
            " 0 0 0 0 0 0 0 0 0 0 0 0 0 0 0 0 0 0 0 0 0 0 0 0 0 0 0 0 0 0 0 0 0 0 0 0 0\n",
            " 0 0 0 0 0 0 0 0 0 0 0 0 0 0 0 0 0 0 0 0 0 0 0 0 0 0 0 0 0 0 0 0 0 0 0 0 0\n",
            " 0 0 0 0 0 0 0 0 0 0 0 0 0 0 0 0 0 0 0 0 0 0 0 0 0 0 0 0 0 0 0 0 0 0 0]\n"
          ]
        },
        {
          "output_type": "execute_result",
          "data": {
            "text/plain": [
              "(479,)"
            ]
          },
          "metadata": {},
          "execution_count": 33
        }
      ]
    },
    {
      "cell_type": "code",
      "source": [
        "# Splitting the dataset into the Training set and Test set\n",
        "from sklearn.model_selection import train_test_split\n",
        "X_train, X_test, y_train, y_test = train_test_split(X, y, test_size = 0.20, random_state = 0)"
      ],
      "metadata": {
        "id": "4l4SeZ3wM6RZ"
      },
      "execution_count": null,
      "outputs": []
    },
    {
      "cell_type": "code",
      "source": [
        "# Fitting Naive Bayes to the Training set\n",
        "from sklearn.naive_bayes import GaussianNB\n",
        "classifier = GaussianNB()\n",
        "classifier.fit(X_train, y_train)"
      ],
      "metadata": {
        "colab": {
          "base_uri": "https://localhost:8080/",
          "height": 74
        },
        "id": "lH4eilj7M8yR",
        "outputId": "2adc98ab-67c4-4f3e-e32e-b8cd23b28c8c"
      },
      "execution_count": null,
      "outputs": [
        {
          "output_type": "execute_result",
          "data": {
            "text/plain": [
              "GaussianNB()"
            ],
            "text/html": [
              "<style>#sk-container-id-1 {color: black;background-color: white;}#sk-container-id-1 pre{padding: 0;}#sk-container-id-1 div.sk-toggleable {background-color: white;}#sk-container-id-1 label.sk-toggleable__label {cursor: pointer;display: block;width: 100%;margin-bottom: 0;padding: 0.3em;box-sizing: border-box;text-align: center;}#sk-container-id-1 label.sk-toggleable__label-arrow:before {content: \"▸\";float: left;margin-right: 0.25em;color: #696969;}#sk-container-id-1 label.sk-toggleable__label-arrow:hover:before {color: black;}#sk-container-id-1 div.sk-estimator:hover label.sk-toggleable__label-arrow:before {color: black;}#sk-container-id-1 div.sk-toggleable__content {max-height: 0;max-width: 0;overflow: hidden;text-align: left;background-color: #f0f8ff;}#sk-container-id-1 div.sk-toggleable__content pre {margin: 0.2em;color: black;border-radius: 0.25em;background-color: #f0f8ff;}#sk-container-id-1 input.sk-toggleable__control:checked~div.sk-toggleable__content {max-height: 200px;max-width: 100%;overflow: auto;}#sk-container-id-1 input.sk-toggleable__control:checked~label.sk-toggleable__label-arrow:before {content: \"▾\";}#sk-container-id-1 div.sk-estimator input.sk-toggleable__control:checked~label.sk-toggleable__label {background-color: #d4ebff;}#sk-container-id-1 div.sk-label input.sk-toggleable__control:checked~label.sk-toggleable__label {background-color: #d4ebff;}#sk-container-id-1 input.sk-hidden--visually {border: 0;clip: rect(1px 1px 1px 1px);clip: rect(1px, 1px, 1px, 1px);height: 1px;margin: -1px;overflow: hidden;padding: 0;position: absolute;width: 1px;}#sk-container-id-1 div.sk-estimator {font-family: monospace;background-color: #f0f8ff;border: 1px dotted black;border-radius: 0.25em;box-sizing: border-box;margin-bottom: 0.5em;}#sk-container-id-1 div.sk-estimator:hover {background-color: #d4ebff;}#sk-container-id-1 div.sk-parallel-item::after {content: \"\";width: 100%;border-bottom: 1px solid gray;flex-grow: 1;}#sk-container-id-1 div.sk-label:hover label.sk-toggleable__label {background-color: #d4ebff;}#sk-container-id-1 div.sk-serial::before {content: \"\";position: absolute;border-left: 1px solid gray;box-sizing: border-box;top: 0;bottom: 0;left: 50%;z-index: 0;}#sk-container-id-1 div.sk-serial {display: flex;flex-direction: column;align-items: center;background-color: white;padding-right: 0.2em;padding-left: 0.2em;position: relative;}#sk-container-id-1 div.sk-item {position: relative;z-index: 1;}#sk-container-id-1 div.sk-parallel {display: flex;align-items: stretch;justify-content: center;background-color: white;position: relative;}#sk-container-id-1 div.sk-item::before, #sk-container-id-1 div.sk-parallel-item::before {content: \"\";position: absolute;border-left: 1px solid gray;box-sizing: border-box;top: 0;bottom: 0;left: 50%;z-index: -1;}#sk-container-id-1 div.sk-parallel-item {display: flex;flex-direction: column;z-index: 1;position: relative;background-color: white;}#sk-container-id-1 div.sk-parallel-item:first-child::after {align-self: flex-end;width: 50%;}#sk-container-id-1 div.sk-parallel-item:last-child::after {align-self: flex-start;width: 50%;}#sk-container-id-1 div.sk-parallel-item:only-child::after {width: 0;}#sk-container-id-1 div.sk-dashed-wrapped {border: 1px dashed gray;margin: 0 0.4em 0.5em 0.4em;box-sizing: border-box;padding-bottom: 0.4em;background-color: white;}#sk-container-id-1 div.sk-label label {font-family: monospace;font-weight: bold;display: inline-block;line-height: 1.2em;}#sk-container-id-1 div.sk-label-container {text-align: center;}#sk-container-id-1 div.sk-container {/* jupyter's `normalize.less` sets `[hidden] { display: none; }` but bootstrap.min.css set `[hidden] { display: none !important; }` so we also need the `!important` here to be able to override the default hidden behavior on the sphinx rendered scikit-learn.org. See: https://github.com/scikit-learn/scikit-learn/issues/21755 */display: inline-block !important;position: relative;}#sk-container-id-1 div.sk-text-repr-fallback {display: none;}</style><div id=\"sk-container-id-1\" class=\"sk-top-container\"><div class=\"sk-text-repr-fallback\"><pre>GaussianNB()</pre><b>In a Jupyter environment, please rerun this cell to show the HTML representation or trust the notebook. <br />On GitHub, the HTML representation is unable to render, please try loading this page with nbviewer.org.</b></div><div class=\"sk-container\" hidden><div class=\"sk-item\"><div class=\"sk-estimator sk-toggleable\"><input class=\"sk-toggleable__control sk-hidden--visually\" id=\"sk-estimator-id-1\" type=\"checkbox\" checked><label for=\"sk-estimator-id-1\" class=\"sk-toggleable__label sk-toggleable__label-arrow\">GaussianNB</label><div class=\"sk-toggleable__content\"><pre>GaussianNB()</pre></div></div></div></div></div>"
            ]
          },
          "metadata": {},
          "execution_count": 35
        }
      ]
    },
    {
      "cell_type": "code",
      "source": [
        "# Predicting the Test set results\n",
        "y_pred = classifier.predict(X_test)"
      ],
      "metadata": {
        "id": "ojrMS1B-M-C9"
      },
      "execution_count": null,
      "outputs": []
    },
    {
      "cell_type": "code",
      "source": [
        "# Making the Confusion Matrix\n",
        "from sklearn.metrics import confusion_matrix\n",
        "cm = confusion_matrix(y_test, y_pred)\n",
        "print('Confusion matrix: ')\n",
        "print(cm)"
      ],
      "metadata": {
        "colab": {
          "base_uri": "https://localhost:8080/"
        },
        "id": "zX1tIbe1M_1s",
        "outputId": "ed64390c-69ff-4265-f5c7-ece7d6844dc1"
      },
      "execution_count": null,
      "outputs": [
        {
          "output_type": "stream",
          "name": "stdout",
          "text": [
            "Confusion matrix: \n",
            "[[60  7]\n",
            " [ 7 22]]\n"
          ]
        }
      ]
    },
    {
      "cell_type": "code",
      "source": [
        "from sklearn.metrics import precision_score\n",
        "from sklearn.metrics import recall_score\n",
        "from sklearn.metrics import f1_score\n",
        "\n",
        "# calculate precision\n",
        "# Precision = TruePositives / (TruePositives + FalsePositives)\n",
        "precision = precision_score(y_test, y_pred, average='binary')\n",
        "print('Precision: %.3f' % (precision*100))"
      ],
      "metadata": {
        "colab": {
          "base_uri": "https://localhost:8080/"
        },
        "id": "t72Cq3dvNDGh",
        "outputId": "f0a0c521-abc3-48a2-8ebc-599b445decbc"
      },
      "execution_count": null,
      "outputs": [
        {
          "output_type": "stream",
          "name": "stdout",
          "text": [
            "Precision: 75.862\n"
          ]
        }
      ]
    },
    {
      "cell_type": "code",
      "source": [
        "from sklearn.metrics import f1_score\n",
        "# F-Measure = (2 * Precision * Recall) / (Precision + Recall)\n",
        "# calculate score\n",
        "score = f1_score(y_test, y_pred, average='binary')\n",
        "print('F-Measure: %.3f' % (score*100))"
      ],
      "metadata": {
        "colab": {
          "base_uri": "https://localhost:8080/"
        },
        "id": "smLf-1MyNFRX",
        "outputId": "47d9e8ef-410c-46ee-c883-4891bbe683a0"
      },
      "execution_count": null,
      "outputs": [
        {
          "output_type": "stream",
          "name": "stdout",
          "text": [
            "F-Measure: 75.862\n"
          ]
        }
      ]
    },
    {
      "cell_type": "code",
      "source": [
        "# calculate recall\n",
        "# Recall = TruePositives / (TruePositives + FalseNegatives)\n",
        "recall = recall_score(y_test, y_pred, average='binary')\n",
        "print('Recall: %.3f' % (recall*100))"
      ],
      "metadata": {
        "id": "dwHHH6yXNHbJ",
        "outputId": "80067bae-5659-48de-c072-c322d52081cf",
        "colab": {
          "base_uri": "https://localhost:8080/"
        }
      },
      "execution_count": null,
      "outputs": [
        {
          "output_type": "stream",
          "name": "stdout",
          "text": [
            "Recall: 75.862\n"
          ]
        }
      ]
    },
    {
      "cell_type": "code",
      "source": [
        "# save the model to disk\n",
        "import joblib\n",
        "filename = '/content/drive/My Drive/naivebayes_model2_NLP.sav'\n",
        "joblib.dump(classifier, filename)\n",
        " \n",
        "# some time later...\n",
        " \n",
        "# load the model from disk\n",
        "naive_bayes_model = joblib.load(filename)\n",
        "result = naive_bayes_model.score(X_test, y_test)\n",
        "print(result)"
      ],
      "metadata": {
        "id": "CqVzbQJfNJ8k",
        "colab": {
          "base_uri": "https://localhost:8080/"
        },
        "outputId": "67b809ac-edd8-480a-b22a-a4b3edb7ae61"
      },
      "execution_count": null,
      "outputs": [
        {
          "output_type": "stream",
          "name": "stdout",
          "text": [
            "0.8541666666666666\n"
          ]
        }
      ]
    },
    {
      "cell_type": "code",
      "source": [
        "Review = \"hateimport pickle  print(\\\"[INFO] Saving model...\\\") # Save the trained model as a pickle string.  saved_model=pickle.dump(classifier,open('/content/drive/My Drive/restuarantreviewnlp.pkl', 'wb'))  # Saving model to disk the iphone\" #@param {type:\"string\"}\n",
        "input_data = [Review] \n",
        "  \n",
        "input_data = cv.transform(input_data).toarray()\n",
        "print(input_data)\n",
        "\n",
        "input_pred = classifier.predict(input_data)\n",
        "\n",
        "input_pred = input_pred.astype(int)\n",
        "\n",
        "\n",
        "if input_pred[0]==1:\n",
        "    print(\"Review is Positive\")\n",
        "else:\n",
        "    print(\"Review is Negative\")"
      ],
      "metadata": {
        "colab": {
          "base_uri": "https://localhost:8080/"
        },
        "id": "_LCkZfjob_aN",
        "outputId": "a0b7d758-a5a0-4add-cf92-d2523a929b26"
      },
      "execution_count": null,
      "outputs": [
        {
          "output_type": "stream",
          "name": "stdout",
          "text": [
            "[[0 0 0 ... 0 0 0]]\n",
            "Review is Negative\n"
          ]
        }
      ]
    },
    {
      "cell_type": "code",
      "source": [
        "import pickle \n",
        "print(\"[INFO] Saving model...\")\n",
        "# Save the trained model as a pickle string. \n",
        "saved_model=pickle.dump(classifier,open('/content/drive/My Drive/sentiment_analyse_NLP.pkl', 'wb')) \n",
        "# Saving model to disk"
      ],
      "metadata": {
        "colab": {
          "base_uri": "https://localhost:8080/"
        },
        "id": "e-Mf6EA1cD2G",
        "outputId": "dc5c28c9-6e02-452d-b31b-38a305762e7d"
      },
      "execution_count": null,
      "outputs": [
        {
          "output_type": "stream",
          "name": "stdout",
          "text": [
            "[INFO] Saving model...\n"
          ]
        }
      ]
    },
    {
      "cell_type": "code",
      "source": [
        "# Load the pickled model \n",
        "model = pickle.load(open('/content/drive/My Drive/sentiment_analyse_NLP.pkl','rb'))  \n",
        "# Use the loaded pickled model to make predictions"
      ],
      "metadata": {
        "id": "qKfzGypicGcj"
      },
      "execution_count": null,
      "outputs": []
    },
    {
      "cell_type": "code",
      "source": [
        "!pip install streamlit==1.1.0"
      ],
      "metadata": {
        "colab": {
          "base_uri": "https://localhost:8080/"
        },
        "id": "nybfKh2EcISL",
        "outputId": "e4e6f81a-633c-4ec6-8a94-a1040cfcbc08"
      },
      "execution_count": null,
      "outputs": [
        {
          "output_type": "stream",
          "name": "stdout",
          "text": [
            "Looking in indexes: https://pypi.org/simple, https://us-python.pkg.dev/colab-wheels/public/simple/\n",
            "Requirement already satisfied: streamlit==1.1.0 in /usr/local/lib/python3.9/dist-packages (1.1.0)\n",
            "Requirement already satisfied: blinker in /usr/local/lib/python3.9/dist-packages (from streamlit==1.1.0) (1.5)\n",
            "Requirement already satisfied: click<8.0,>=7.0 in /usr/local/lib/python3.9/dist-packages (from streamlit==1.1.0) (7.1.2)\n",
            "Requirement already satisfied: toml in /usr/local/lib/python3.9/dist-packages (from streamlit==1.1.0) (0.10.2)\n",
            "Requirement already satisfied: altair>=3.2.0 in /usr/local/lib/python3.9/dist-packages (from streamlit==1.1.0) (4.2.2)\n",
            "Requirement already satisfied: packaging in /usr/local/lib/python3.9/dist-packages (from streamlit==1.1.0) (23.0)\n",
            "Requirement already satisfied: tornado>=5.0 in /usr/local/lib/python3.9/dist-packages (from streamlit==1.1.0) (6.2)\n",
            "Requirement already satisfied: numpy in /usr/local/lib/python3.9/dist-packages (from streamlit==1.1.0) (1.22.4)\n",
            "Requirement already satisfied: pandas>=0.21.0 in /usr/local/lib/python3.9/dist-packages (from streamlit==1.1.0) (1.4.4)\n",
            "Requirement already satisfied: protobuf!=3.11,>=3.6.0 in /usr/local/lib/python3.9/dist-packages (from streamlit==1.1.0) (3.20.3)\n",
            "Requirement already satisfied: pillow>=6.2.0 in /usr/local/lib/python3.9/dist-packages (from streamlit==1.1.0) (8.4.0)\n",
            "Requirement already satisfied: requests in /usr/local/lib/python3.9/dist-packages (from streamlit==1.1.0) (2.27.1)\n",
            "Requirement already satisfied: pydeck>=0.1.dev5 in /usr/local/lib/python3.9/dist-packages (from streamlit==1.1.0) (0.8.0)\n",
            "Requirement already satisfied: python-dateutil in /usr/local/lib/python3.9/dist-packages (from streamlit==1.1.0) (2.8.2)\n",
            "Requirement already satisfied: gitpython!=3.1.19 in /usr/local/lib/python3.9/dist-packages (from streamlit==1.1.0) (3.1.31)\n",
            "Requirement already satisfied: cachetools>=4.0 in /usr/local/lib/python3.9/dist-packages (from streamlit==1.1.0) (5.3.0)\n",
            "Requirement already satisfied: watchdog in /usr/local/lib/python3.9/dist-packages (from streamlit==1.1.0) (3.0.0)\n",
            "Requirement already satisfied: attrs in /usr/local/lib/python3.9/dist-packages (from streamlit==1.1.0) (22.2.0)\n",
            "Requirement already satisfied: tzlocal in /usr/local/lib/python3.9/dist-packages (from streamlit==1.1.0) (4.3)\n",
            "Requirement already satisfied: validators in /usr/local/lib/python3.9/dist-packages (from streamlit==1.1.0) (0.20.0)\n",
            "Requirement already satisfied: base58 in /usr/local/lib/python3.9/dist-packages (from streamlit==1.1.0) (2.1.1)\n",
            "Requirement already satisfied: pyarrow in /usr/local/lib/python3.9/dist-packages (from streamlit==1.1.0) (9.0.0)\n",
            "Requirement already satisfied: astor in /usr/local/lib/python3.9/dist-packages (from streamlit==1.1.0) (0.8.1)\n",
            "Requirement already satisfied: jsonschema>=3.0 in /usr/local/lib/python3.9/dist-packages (from altair>=3.2.0->streamlit==1.1.0) (4.3.3)\n",
            "Requirement already satisfied: jinja2 in /usr/local/lib/python3.9/dist-packages (from altair>=3.2.0->streamlit==1.1.0) (3.1.2)\n",
            "Requirement already satisfied: toolz in /usr/local/lib/python3.9/dist-packages (from altair>=3.2.0->streamlit==1.1.0) (0.12.0)\n",
            "Requirement already satisfied: entrypoints in /usr/local/lib/python3.9/dist-packages (from altair>=3.2.0->streamlit==1.1.0) (0.4)\n",
            "Requirement already satisfied: gitdb<5,>=4.0.1 in /usr/local/lib/python3.9/dist-packages (from gitpython!=3.1.19->streamlit==1.1.0) (4.0.10)\n",
            "Requirement already satisfied: pytz>=2020.1 in /usr/local/lib/python3.9/dist-packages (from pandas>=0.21.0->streamlit==1.1.0) (2022.7.1)\n",
            "Requirement already satisfied: six>=1.5 in /usr/local/lib/python3.9/dist-packages (from python-dateutil->streamlit==1.1.0) (1.16.0)\n",
            "Requirement already satisfied: certifi>=2017.4.17 in /usr/local/lib/python3.9/dist-packages (from requests->streamlit==1.1.0) (2022.12.7)\n",
            "Requirement already satisfied: charset-normalizer~=2.0.0 in /usr/local/lib/python3.9/dist-packages (from requests->streamlit==1.1.0) (2.0.12)\n",
            "Requirement already satisfied: urllib3<1.27,>=1.21.1 in /usr/local/lib/python3.9/dist-packages (from requests->streamlit==1.1.0) (1.26.15)\n",
            "Requirement already satisfied: idna<4,>=2.5 in /usr/local/lib/python3.9/dist-packages (from requests->streamlit==1.1.0) (3.4)\n",
            "Requirement already satisfied: pytz-deprecation-shim in /usr/local/lib/python3.9/dist-packages (from tzlocal->streamlit==1.1.0) (0.1.0.post0)\n",
            "Requirement already satisfied: decorator>=3.4.0 in /usr/local/lib/python3.9/dist-packages (from validators->streamlit==1.1.0) (4.4.2)\n",
            "Requirement already satisfied: smmap<6,>=3.0.1 in /usr/local/lib/python3.9/dist-packages (from gitdb<5,>=4.0.1->gitpython!=3.1.19->streamlit==1.1.0) (5.0.0)\n",
            "Requirement already satisfied: MarkupSafe>=2.0 in /usr/local/lib/python3.9/dist-packages (from jinja2->altair>=3.2.0->streamlit==1.1.0) (2.1.2)\n",
            "Requirement already satisfied: pyrsistent!=0.17.0,!=0.17.1,!=0.17.2,>=0.14.0 in /usr/local/lib/python3.9/dist-packages (from jsonschema>=3.0->altair>=3.2.0->streamlit==1.1.0) (0.19.3)\n",
            "Requirement already satisfied: tzdata in /usr/local/lib/python3.9/dist-packages (from pytz-deprecation-shim->tzlocal->streamlit==1.1.0) (2023.3)\n"
          ]
        }
      ]
    },
    {
      "cell_type": "code",
      "source": [
        "# Mounting Google Drive\n",
        "from google.colab import drive\n",
        "drive.mount('/content/drive')"
      ],
      "metadata": {
        "colab": {
          "base_uri": "https://localhost:8080/"
        },
        "id": "3sB8WxcGcKL_",
        "outputId": "e78dfdd1-b02f-449f-dfcd-ac65ee07d914"
      },
      "execution_count": null,
      "outputs": [
        {
          "output_type": "stream",
          "name": "stdout",
          "text": [
            "Drive already mounted at /content/drive; to attempt to forcibly remount, call drive.mount(\"/content/drive\", force_remount=True).\n"
          ]
        }
      ]
    },
    {
      "cell_type": "code",
      "source": [
        "!pip install pyngrok"
      ],
      "metadata": {
        "colab": {
          "base_uri": "https://localhost:8080/"
        },
        "id": "xRUE08MYcOt4",
        "outputId": "0cd3a3e6-b511-4c9b-9c40-3dff00bedd90"
      },
      "execution_count": null,
      "outputs": [
        {
          "output_type": "stream",
          "name": "stdout",
          "text": [
            "Looking in indexes: https://pypi.org/simple, https://us-python.pkg.dev/colab-wheels/public/simple/\n",
            "Requirement already satisfied: pyngrok in /usr/local/lib/python3.9/dist-packages (5.2.1)\n",
            "Requirement already satisfied: PyYAML in /usr/local/lib/python3.9/dist-packages (from pyngrok) (6.0)\n"
          ]
        }
      ]
    },
    {
      "cell_type": "code",
      "source": [
        "!ngrok authtoken 2CT4K2ld8wdjqwUpuZFCzE27aDo_3PuRVE36RorTvL9a7CR1V"
      ],
      "metadata": {
        "colab": {
          "base_uri": "https://localhost:8080/"
        },
        "id": "XaAoJpSgcRJ2",
        "outputId": "be354da2-927c-442e-f83a-c73c92e51f48"
      },
      "execution_count": null,
      "outputs": [
        {
          "output_type": "stream",
          "name": "stdout",
          "text": [
            "Authtoken saved to configuration file: /root/.ngrok2/ngrok.yml\n"
          ]
        }
      ]
    },
    {
      "cell_type": "code",
      "source": [
        "%%writefile app.py\n",
        "import streamlit as st \n",
        "from PIL import Image\n",
        "import pickle\n",
        "import numpy as np\n",
        "import matplotlib.pyplot as plt\n",
        "import pandas as pd\n",
        "st.set_option('deprecation.showfileUploaderEncoding', False)\n",
        "# Load the pickled model\n",
        "model = pickle.load(open('/content/drive/My Drive/sentiment_analyse_NLP.pkl','rb'))   \n",
        "\n",
        "\n",
        "def review(text1):\n",
        "  dataset = pd.read_csv('/content/drive/My Drive/Dataset/NLP dataset 1.csv')\n",
        "  # First step: cleaning Text and removing number and punctuation marks.\n",
        "  # Cleaning the texts for all review using for loop\n",
        "  import re\n",
        "  import nltk\n",
        "  nltk.download('stopwords')\n",
        "  from nltk.corpus import stopwords\n",
        "  from nltk.stem.porter import PorterStemmer\n",
        "  corpus = []\n",
        "  for i in range(0, dataset.shape[0]):\n",
        "    review = re.sub('[^a-zA-Z]', ' ', dataset['text'][i])\n",
        "    review = review.lower()\n",
        "    review = review.split()\n",
        "    ps = PorterStemmer()\n",
        "    review = [ps.stem(word) for word in review if not word in set(stopwords.words('english'))]\n",
        "    review = ' '.join(review)\n",
        "    #print(review)\n",
        "    corpus.append(review)\n",
        "  # Creating the Bag of Words model\n",
        "  from sklearn.feature_extraction.text import CountVectorizer\n",
        "  cv = CountVectorizer(max_features = 1500)\n",
        "  #print(cv)\n",
        "  X = cv.fit_transform(corpus).toarray()\n",
        "  import re\n",
        "  review = re.sub('[^a-zA-Z]', ' ', text1)\n",
        "  review=review.lower()\n",
        "  print(review)\n",
        "  # Third step: Removing stop words like 'this, the'\n",
        "  import nltk\n",
        "  nltk.download('stopwords')\n",
        "  from nltk.corpus import stopwords\n",
        "  review = review.split()\n",
        "  print(review)\n",
        "  # Third step: Removing stop words like 'this, the'\n",
        "   # set function is generally used for long article to fastem process\n",
        "  review1 = [word for word in review if not word in set(stopwords.words('english'))]\n",
        "  print(review1)\n",
        "  # Fourth step: converting stemming words\n",
        "  from nltk.stem.porter import PorterStemmer\n",
        "  ps = PorterStemmer()\n",
        "  review = [ps.stem(word) for word in review1 if not word in set(stopwords.words('english'))]\n",
        "  print(review)\n",
        "  # joining these words of list\n",
        "  review2 = ' '.join(review)\n",
        "  print(review2)\n",
        "  # Creating the Bag of Words model\n",
        "  \n",
        "  X = cv.transform(review).toarray()\n",
        "  input_pred = model.predict(X)\n",
        "  input_pred = input_pred.astype(int)\n",
        "  print(input_pred)\n",
        "  if input_pred[0]==1:\n",
        "    result= \"Review is Positive\"\n",
        "  else:\n",
        "    result=\"Review is negative\" \n",
        "\n",
        " \n",
        "    \n",
        "  return result\n",
        "html_temp = \"\"\"\n",
        "   <div class=\"\" style=\"background-color:purple;\" >\n",
        "   <div class=\"clearfix\">           \n",
        "   <div class=\"col-md-12\">\n",
        "   <center><p style=\"font-size:40px;color:orange;margin-top:10px;\">Ace Hackers 2.0</p></center> \n",
        "   <center><p style=\"font-size:30px;color:orange;margin-top:10px;\">Department of Computer Engineering</p></center> \n",
        "  \n",
        "   </div>\n",
        "   </div>\n",
        "   </div>\n",
        "   \"\"\"\n",
        "st.markdown(html_temp,unsafe_allow_html=True)\n",
        "st.header(\"Sentiment Analysis System \")\n",
        "  \n",
        "  \n",
        "text1= st.text_area(\"Write the statement\")\n",
        "\n",
        "if st.button(\"Sentiment Analysis\"):\n",
        "  result=review(text1)\n",
        "  st.success('Model has predicted {}'.format(result))\n",
        "      \n",
        "if st.button(\"About\"):\n",
        "  st.subheader(\"Developed by jayendra sharma\")\n",
        "  st.subheader(\"Student , Department of Computer Engineering\")\n",
        "html_temp = \"\"\"\n",
        "   <div class=\"\" style=\"background-color:red;\" >\n",
        "   <div class=\"clearfix\">           \n",
        "   <div class=\"col-md-12\">\n",
        "   <center><p style=\"font-size:20px;color:green;margin-top:10px;\"></p></center> \n",
        "   </div>\n",
        "   </div>\n",
        "   </div>\n",
        "   \"\"\"\n",
        "st.markdown(html_temp,unsafe_allow_html=True)"
      ],
      "metadata": {
        "colab": {
          "base_uri": "https://localhost:8080/"
        },
        "id": "coqJPlm-cVoh",
        "outputId": "c5a8a3b7-1797-4fc0-881d-0417aef6bf3e"
      },
      "execution_count": null,
      "outputs": [
        {
          "output_type": "stream",
          "name": "stdout",
          "text": [
            "Overwriting app.py\n"
          ]
        }
      ]
    },
    {
      "cell_type": "code",
      "source": [
        "!nohup streamlit run  app.py &"
      ],
      "metadata": {
        "colab": {
          "base_uri": "https://localhost:8080/"
        },
        "id": "KqI6YBfEdFCv",
        "outputId": "d5606de8-7db1-4bd9-f07c-ad69d9de09c0"
      },
      "execution_count": 60,
      "outputs": [
        {
          "output_type": "stream",
          "name": "stdout",
          "text": [
            "nohup: appending output to 'nohup.out'\n"
          ]
        }
      ]
    },
    {
      "cell_type": "code",
      "source": [
        "from pyngrok import ngrok\n",
        "url=ngrok.connect(port='8050')\n",
        "url"
      ],
      "metadata": {
        "colab": {
          "base_uri": "https://localhost:8080/",
          "height": 450
        },
        "id": "cTUVv5drdHGQ",
        "outputId": "94e8b472-a64e-4cca-a3d7-bbf3ff59fd74"
      },
      "execution_count": 61,
      "outputs": [
        {
          "output_type": "stream",
          "name": "stderr",
          "text": [
            "WARNING:pyngrok.process.ngrok:t=2023-04-01T20:29:54+0000 lvl=warn msg=\"failed to start tunnel\" pg=/api/tunnels id=bd3eba5803752242 err=EOF\n"
          ]
        },
        {
          "output_type": "error",
          "ename": "PyngrokNgrokHTTPError",
          "evalue": "ignored",
          "traceback": [
            "\u001b[0;31m---------------------------------------------------------------------------\u001b[0m",
            "\u001b[0;31mHTTPError\u001b[0m                                 Traceback (most recent call last)",
            "\u001b[0;32m/usr/local/lib/python3.9/dist-packages/pyngrok/ngrok.py\u001b[0m in \u001b[0;36mapi_request\u001b[0;34m(url, method, data, params, timeout)\u001b[0m\n\u001b[1;32m    455\u001b[0m     \u001b[0;32mtry\u001b[0m\u001b[0;34m:\u001b[0m\u001b[0;34m\u001b[0m\u001b[0;34m\u001b[0m\u001b[0m\n\u001b[0;32m--> 456\u001b[0;31m         \u001b[0mresponse\u001b[0m \u001b[0;34m=\u001b[0m \u001b[0murlopen\u001b[0m\u001b[0;34m(\u001b[0m\u001b[0mrequest\u001b[0m\u001b[0;34m,\u001b[0m \u001b[0mdata\u001b[0m\u001b[0;34m,\u001b[0m \u001b[0mtimeout\u001b[0m\u001b[0;34m)\u001b[0m\u001b[0;34m\u001b[0m\u001b[0;34m\u001b[0m\u001b[0m\n\u001b[0m\u001b[1;32m    457\u001b[0m         \u001b[0mresponse_data\u001b[0m \u001b[0;34m=\u001b[0m \u001b[0mresponse\u001b[0m\u001b[0;34m.\u001b[0m\u001b[0mread\u001b[0m\u001b[0;34m(\u001b[0m\u001b[0;34m)\u001b[0m\u001b[0;34m.\u001b[0m\u001b[0mdecode\u001b[0m\u001b[0;34m(\u001b[0m\u001b[0;34m\"utf-8\"\u001b[0m\u001b[0;34m)\u001b[0m\u001b[0;34m\u001b[0m\u001b[0;34m\u001b[0m\u001b[0m\n",
            "\u001b[0;32m/usr/lib/python3.9/urllib/request.py\u001b[0m in \u001b[0;36murlopen\u001b[0;34m(url, data, timeout, cafile, capath, cadefault, context)\u001b[0m\n\u001b[1;32m    213\u001b[0m         \u001b[0mopener\u001b[0m \u001b[0;34m=\u001b[0m \u001b[0m_opener\u001b[0m\u001b[0;34m\u001b[0m\u001b[0;34m\u001b[0m\u001b[0m\n\u001b[0;32m--> 214\u001b[0;31m     \u001b[0;32mreturn\u001b[0m \u001b[0mopener\u001b[0m\u001b[0;34m.\u001b[0m\u001b[0mopen\u001b[0m\u001b[0;34m(\u001b[0m\u001b[0murl\u001b[0m\u001b[0;34m,\u001b[0m \u001b[0mdata\u001b[0m\u001b[0;34m,\u001b[0m \u001b[0mtimeout\u001b[0m\u001b[0;34m)\u001b[0m\u001b[0;34m\u001b[0m\u001b[0;34m\u001b[0m\u001b[0m\n\u001b[0m\u001b[1;32m    215\u001b[0m \u001b[0;34m\u001b[0m\u001b[0m\n",
            "\u001b[0;32m/usr/lib/python3.9/urllib/request.py\u001b[0m in \u001b[0;36mopen\u001b[0;34m(self, fullurl, data, timeout)\u001b[0m\n\u001b[1;32m    522\u001b[0m             \u001b[0mmeth\u001b[0m \u001b[0;34m=\u001b[0m \u001b[0mgetattr\u001b[0m\u001b[0;34m(\u001b[0m\u001b[0mprocessor\u001b[0m\u001b[0;34m,\u001b[0m \u001b[0mmeth_name\u001b[0m\u001b[0;34m)\u001b[0m\u001b[0;34m\u001b[0m\u001b[0;34m\u001b[0m\u001b[0m\n\u001b[0;32m--> 523\u001b[0;31m             \u001b[0mresponse\u001b[0m \u001b[0;34m=\u001b[0m \u001b[0mmeth\u001b[0m\u001b[0;34m(\u001b[0m\u001b[0mreq\u001b[0m\u001b[0;34m,\u001b[0m \u001b[0mresponse\u001b[0m\u001b[0;34m)\u001b[0m\u001b[0;34m\u001b[0m\u001b[0;34m\u001b[0m\u001b[0m\n\u001b[0m\u001b[1;32m    524\u001b[0m \u001b[0;34m\u001b[0m\u001b[0m\n",
            "\u001b[0;32m/usr/lib/python3.9/urllib/request.py\u001b[0m in \u001b[0;36mhttp_response\u001b[0;34m(self, request, response)\u001b[0m\n\u001b[1;32m    631\u001b[0m         \u001b[0;32mif\u001b[0m \u001b[0;32mnot\u001b[0m \u001b[0;34m(\u001b[0m\u001b[0;36m200\u001b[0m \u001b[0;34m<=\u001b[0m \u001b[0mcode\u001b[0m \u001b[0;34m<\u001b[0m \u001b[0;36m300\u001b[0m\u001b[0;34m)\u001b[0m\u001b[0;34m:\u001b[0m\u001b[0;34m\u001b[0m\u001b[0;34m\u001b[0m\u001b[0m\n\u001b[0;32m--> 632\u001b[0;31m             response = self.parent.error(\n\u001b[0m\u001b[1;32m    633\u001b[0m                 'http', request, response, code, msg, hdrs)\n",
            "\u001b[0;32m/usr/lib/python3.9/urllib/request.py\u001b[0m in \u001b[0;36merror\u001b[0;34m(self, proto, *args)\u001b[0m\n\u001b[1;32m    560\u001b[0m             \u001b[0margs\u001b[0m \u001b[0;34m=\u001b[0m \u001b[0;34m(\u001b[0m\u001b[0mdict\u001b[0m\u001b[0;34m,\u001b[0m \u001b[0;34m'default'\u001b[0m\u001b[0;34m,\u001b[0m \u001b[0;34m'http_error_default'\u001b[0m\u001b[0;34m)\u001b[0m \u001b[0;34m+\u001b[0m \u001b[0morig_args\u001b[0m\u001b[0;34m\u001b[0m\u001b[0;34m\u001b[0m\u001b[0m\n\u001b[0;32m--> 561\u001b[0;31m             \u001b[0;32mreturn\u001b[0m \u001b[0mself\u001b[0m\u001b[0;34m.\u001b[0m\u001b[0m_call_chain\u001b[0m\u001b[0;34m(\u001b[0m\u001b[0;34m*\u001b[0m\u001b[0margs\u001b[0m\u001b[0;34m)\u001b[0m\u001b[0;34m\u001b[0m\u001b[0;34m\u001b[0m\u001b[0m\n\u001b[0m\u001b[1;32m    562\u001b[0m \u001b[0;34m\u001b[0m\u001b[0m\n",
            "\u001b[0;32m/usr/lib/python3.9/urllib/request.py\u001b[0m in \u001b[0;36m_call_chain\u001b[0;34m(self, chain, kind, meth_name, *args)\u001b[0m\n\u001b[1;32m    493\u001b[0m             \u001b[0mfunc\u001b[0m \u001b[0;34m=\u001b[0m \u001b[0mgetattr\u001b[0m\u001b[0;34m(\u001b[0m\u001b[0mhandler\u001b[0m\u001b[0;34m,\u001b[0m \u001b[0mmeth_name\u001b[0m\u001b[0;34m)\u001b[0m\u001b[0;34m\u001b[0m\u001b[0;34m\u001b[0m\u001b[0m\n\u001b[0;32m--> 494\u001b[0;31m             \u001b[0mresult\u001b[0m \u001b[0;34m=\u001b[0m \u001b[0mfunc\u001b[0m\u001b[0;34m(\u001b[0m\u001b[0;34m*\u001b[0m\u001b[0margs\u001b[0m\u001b[0;34m)\u001b[0m\u001b[0;34m\u001b[0m\u001b[0;34m\u001b[0m\u001b[0m\n\u001b[0m\u001b[1;32m    495\u001b[0m             \u001b[0;32mif\u001b[0m \u001b[0mresult\u001b[0m \u001b[0;32mis\u001b[0m \u001b[0;32mnot\u001b[0m \u001b[0;32mNone\u001b[0m\u001b[0;34m:\u001b[0m\u001b[0;34m\u001b[0m\u001b[0;34m\u001b[0m\u001b[0m\n",
            "\u001b[0;32m/usr/lib/python3.9/urllib/request.py\u001b[0m in \u001b[0;36mhttp_error_default\u001b[0;34m(self, req, fp, code, msg, hdrs)\u001b[0m\n\u001b[1;32m    640\u001b[0m     \u001b[0;32mdef\u001b[0m \u001b[0mhttp_error_default\u001b[0m\u001b[0;34m(\u001b[0m\u001b[0mself\u001b[0m\u001b[0;34m,\u001b[0m \u001b[0mreq\u001b[0m\u001b[0;34m,\u001b[0m \u001b[0mfp\u001b[0m\u001b[0;34m,\u001b[0m \u001b[0mcode\u001b[0m\u001b[0;34m,\u001b[0m \u001b[0mmsg\u001b[0m\u001b[0;34m,\u001b[0m \u001b[0mhdrs\u001b[0m\u001b[0;34m)\u001b[0m\u001b[0;34m:\u001b[0m\u001b[0;34m\u001b[0m\u001b[0;34m\u001b[0m\u001b[0m\n\u001b[0;32m--> 641\u001b[0;31m         \u001b[0;32mraise\u001b[0m \u001b[0mHTTPError\u001b[0m\u001b[0;34m(\u001b[0m\u001b[0mreq\u001b[0m\u001b[0;34m.\u001b[0m\u001b[0mfull_url\u001b[0m\u001b[0;34m,\u001b[0m \u001b[0mcode\u001b[0m\u001b[0;34m,\u001b[0m \u001b[0mmsg\u001b[0m\u001b[0;34m,\u001b[0m \u001b[0mhdrs\u001b[0m\u001b[0;34m,\u001b[0m \u001b[0mfp\u001b[0m\u001b[0;34m)\u001b[0m\u001b[0;34m\u001b[0m\u001b[0;34m\u001b[0m\u001b[0m\n\u001b[0m\u001b[1;32m    642\u001b[0m \u001b[0;34m\u001b[0m\u001b[0m\n",
            "\u001b[0;31mHTTPError\u001b[0m: HTTP Error 502: Bad Gateway",
            "\nDuring handling of the above exception, another exception occurred:\n",
            "\u001b[0;31mPyngrokNgrokHTTPError\u001b[0m                     Traceback (most recent call last)",
            "\u001b[0;32m<ipython-input-61-b0ef1c1e03a4>\u001b[0m in \u001b[0;36m<cell line: 2>\u001b[0;34m()\u001b[0m\n\u001b[1;32m      1\u001b[0m \u001b[0;32mfrom\u001b[0m \u001b[0mpyngrok\u001b[0m \u001b[0;32mimport\u001b[0m \u001b[0mngrok\u001b[0m\u001b[0;34m\u001b[0m\u001b[0;34m\u001b[0m\u001b[0m\n\u001b[0;32m----> 2\u001b[0;31m \u001b[0murl\u001b[0m\u001b[0;34m=\u001b[0m\u001b[0mngrok\u001b[0m\u001b[0;34m.\u001b[0m\u001b[0mconnect\u001b[0m\u001b[0;34m(\u001b[0m\u001b[0mport\u001b[0m\u001b[0;34m=\u001b[0m\u001b[0;34m'8050'\u001b[0m\u001b[0;34m)\u001b[0m\u001b[0;34m\u001b[0m\u001b[0;34m\u001b[0m\u001b[0m\n\u001b[0m\u001b[1;32m      3\u001b[0m \u001b[0murl\u001b[0m\u001b[0;34m\u001b[0m\u001b[0;34m\u001b[0m\u001b[0m\n",
            "\u001b[0;32m/usr/local/lib/python3.9/dist-packages/pyngrok/ngrok.py\u001b[0m in \u001b[0;36mconnect\u001b[0;34m(addr, proto, name, pyngrok_config, **options)\u001b[0m\n\u001b[1;32m    269\u001b[0m     \u001b[0mlogger\u001b[0m\u001b[0;34m.\u001b[0m\u001b[0mdebug\u001b[0m\u001b[0;34m(\u001b[0m\u001b[0;34m\"Creating tunnel with options: {}\"\u001b[0m\u001b[0;34m.\u001b[0m\u001b[0mformat\u001b[0m\u001b[0;34m(\u001b[0m\u001b[0moptions\u001b[0m\u001b[0;34m)\u001b[0m\u001b[0;34m)\u001b[0m\u001b[0;34m\u001b[0m\u001b[0;34m\u001b[0m\u001b[0m\n\u001b[1;32m    270\u001b[0m \u001b[0;34m\u001b[0m\u001b[0m\n\u001b[0;32m--> 271\u001b[0;31m     tunnel = NgrokTunnel(api_request(\"{}/api/tunnels\".format(api_url), method=\"POST\", data=options,\n\u001b[0m\u001b[1;32m    272\u001b[0m                                      timeout=pyngrok_config.request_timeout),\n\u001b[1;32m    273\u001b[0m                          pyngrok_config, api_url)\n",
            "\u001b[0;32m/usr/local/lib/python3.9/dist-packages/pyngrok/ngrok.py\u001b[0m in \u001b[0;36mapi_request\u001b[0;34m(url, method, data, params, timeout)\u001b[0m\n\u001b[1;32m    475\u001b[0m         \u001b[0mlogger\u001b[0m\u001b[0;34m.\u001b[0m\u001b[0mdebug\u001b[0m\u001b[0;34m(\u001b[0m\u001b[0;34m\"Response {}: {}\"\u001b[0m\u001b[0;34m.\u001b[0m\u001b[0mformat\u001b[0m\u001b[0;34m(\u001b[0m\u001b[0mstatus_code\u001b[0m\u001b[0;34m,\u001b[0m \u001b[0mresponse_data\u001b[0m\u001b[0;34m.\u001b[0m\u001b[0mstrip\u001b[0m\u001b[0;34m(\u001b[0m\u001b[0;34m)\u001b[0m\u001b[0;34m)\u001b[0m\u001b[0;34m)\u001b[0m\u001b[0;34m\u001b[0m\u001b[0;34m\u001b[0m\u001b[0m\n\u001b[1;32m    476\u001b[0m \u001b[0;34m\u001b[0m\u001b[0m\n\u001b[0;32m--> 477\u001b[0;31m         raise PyngrokNgrokHTTPError(\"ngrok client exception, API returned {}: {}\".format(status_code, response_data),\n\u001b[0m\u001b[1;32m    478\u001b[0m                                     \u001b[0me\u001b[0m\u001b[0;34m.\u001b[0m\u001b[0murl\u001b[0m\u001b[0;34m,\u001b[0m\u001b[0;34m\u001b[0m\u001b[0;34m\u001b[0m\u001b[0m\n\u001b[1;32m    479\u001b[0m                                     status_code, e.msg, e.hdrs, response_data)\n",
            "\u001b[0;31mPyngrokNgrokHTTPError\u001b[0m: ngrok client exception, API returned 502: {\"error_code\":103,\"status_code\":502,\"msg\":\"failed to start tunnel\",\"details\":{\"err\":\"EOF\"}}\n"
          ]
        }
      ]
    },
    {
      "cell_type": "code",
      "source": [
        "!streamlit run --server.port 80 app.py"
      ],
      "metadata": {
        "colab": {
          "base_uri": "https://localhost:8080/"
        },
        "id": "YDZcWabLdJDp",
        "outputId": "2cc1a4c7-2552-4aef-eef6-9f14039deab2"
      },
      "execution_count": null,
      "outputs": [
        {
          "output_type": "stream",
          "name": "stdout",
          "text": [
            "2023-04-01 20:14:36.124 INFO    numexpr.utils: NumExpr defaulting to 2 threads.\n",
            "\u001b[0m\n",
            "\u001b[34m\u001b[1m  You can now view your Streamlit app in your browser.\u001b[0m\n",
            "\u001b[0m\n",
            "\u001b[34m  Network URL: \u001b[0m\u001b[1mhttp://172.28.0.12:80\u001b[0m\n",
            "\u001b[34m  External URL: \u001b[0m\u001b[1mhttp://34.125.57.154:80\u001b[0m\n",
            "\u001b[0m\n",
            "\u001b[34m  Stopping...\u001b[0m\n",
            "Traceback (most recent call last):\n",
            "  File \"/usr/local/bin/streamlit\", line 8, in <module>\n",
            "    sys.exit(main())\n",
            "  File \"/usr/local/lib/python3.9/dist-packages/click/core.py\", line 829, in __call__\n",
            "    return self.main(*args, **kwargs)\n",
            "  File \"/usr/local/lib/python3.9/dist-packages/click/core.py\", line 782, in main\n",
            "    rv = self.invoke(ctx)\n",
            "  File \"/usr/local/lib/python3.9/dist-packages/click/core.py\", line 1259, in invoke\n",
            "    return _process_result(sub_ctx.command.invoke(sub_ctx))\n",
            "  File \"/usr/local/lib/python3.9/dist-packages/click/core.py\", line 1066, in invoke\n",
            "    return ctx.invoke(self.callback, **ctx.params)\n",
            "  File \"/usr/local/lib/python3.9/dist-packages/click/core.py\", line 610, in invoke\n",
            "    return callback(*args, **kwargs)\n",
            "  File \"/usr/local/lib/python3.9/dist-packages/streamlit/cli.py\", line 190, in main_run\n",
            "    _main_run(target, args, flag_options=kwargs)\n",
            "  File \"/usr/local/lib/python3.9/dist-packages/streamlit/cli.py\", line 218, in _main_run\n",
            "    bootstrap.run(file, command_line, args, flag_options)\n",
            "  File \"/usr/local/lib/python3.9/dist-packages/streamlit/bootstrap.py\", line 363, in run\n",
            "    ioloop.start()\n",
            "  File \"/usr/local/lib/python3.9/dist-packages/tornado/platform/asyncio.py\", line 215, in start\n",
            "    self.asyncio_loop.run_forever()\n",
            "  File \"/usr/lib/python3.9/asyncio/base_events.py\", line 601, in run_forever\n",
            "    self._run_once()\n",
            "  File \"/usr/lib/python3.9/asyncio/base_events.py\", line 1869, in _run_once\n",
            "    event_list = self._selector.select(timeout)\n",
            "  File \"/usr/lib/python3.9/selectors.py\", line 469, in select\n",
            "    fd_event_list = self._selector.poll(timeout, max_ev)\n",
            "  File \"/usr/local/lib/python3.9/dist-packages/streamlit/bootstrap.py\", line 67, in signal_handler\n",
            "    Server.get_current().stop(from_signal=True)\n",
            "  File \"/usr/local/lib/python3.9/dist-packages/streamlit/server/server.py\", line 623, in stop\n",
            "    click.secho(\"  Stopping...\", fg=\"blue\")\n",
            "  File \"/usr/local/lib/python3.9/dist-packages/click/termui.py\", line 548, in secho\n",
            "    return echo(message, file=file, nl=nl, err=err, color=color)\n",
            "  File \"/usr/local/lib/python3.9/dist-packages/click/utils.py\", line 272, in echo\n",
            "    file.write(message)\n",
            "  File \"/usr/local/lib/python3.9/dist-packages/streamlit/bootstrap.py\", line 67, in signal_handler\n",
            "    Server.get_current().stop(from_signal=True)\n",
            "  File \"/usr/local/lib/python3.9/dist-packages/streamlit/server/server.py\", line 623, in stop\n",
            "    click.secho(\"  Stopping...\", fg=\"blue\")\n",
            "  File \"/usr/local/lib/python3.9/dist-packages/click/termui.py\", line 548, in secho\n",
            "    return echo(message, file=file, nl=nl, err=err, color=color)\n",
            "  File \"/usr/local/lib/python3.9/dist-packages/click/utils.py\", line 272, in echo\n",
            "    file.write(message)\n",
            "RuntimeError: reentrant call inside <_io.BufferedWriter name='<stdout>'>\n",
            "^C\n"
          ]
        }
      ]
    },
    {
      "cell_type": "code",
      "source": [],
      "metadata": {
        "id": "ogeVfdImdShS"
      },
      "execution_count": null,
      "outputs": []
    }
  ],
  "metadata": {
    "colab": {
      "provenance": [],
      "authorship_tag": "ABX9TyP1HkAFUUpGr2tbak+8egkW",
      "include_colab_link": true
    },
    "kernelspec": {
      "display_name": "Python 3",
      "name": "python3"
    },
    "language_info": {
      "name": "python"
    }
  },
  "nbformat": 4,
  "nbformat_minor": 0
}